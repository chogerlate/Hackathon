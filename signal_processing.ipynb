{
  "nbformat": 4,
  "nbformat_minor": 0,
  "metadata": {
    "colab": {
      "provenance": []
    },
    "kernelspec": {
      "name": "python3",
      "display_name": "Python 3"
    },
    "language_info": {
      "name": "python"
    },
    "gpuClass": "standard"
  },
  "cells": [
    {
      "cell_type": "markdown",
      "source": [
        "# Before Even Start The Project"
      ],
      "metadata": {
        "id": "q0OzuGR0UcwS"
      }
    },
    {
      "cell_type": "code",
      "source": [
        "!nvidia-smi"
      ],
      "metadata": {
        "colab": {
          "base_uri": "https://localhost:8080/"
        },
        "id": "WDLvyUh_oeN_",
        "outputId": "5d1133c3-04ac-45b8-b290-5d3c6e09aa1a"
      },
      "execution_count": null,
      "outputs": [
        {
          "output_type": "stream",
          "name": "stdout",
          "text": [
            "NVIDIA-SMI has failed because it couldn't communicate with the NVIDIA driver. Make sure that the latest NVIDIA driver is installed and running.\n",
            "\n"
          ]
        }
      ]
    },
    {
      "cell_type": "code",
      "source": [
        "# install modules that we need\n",
        "!pip install transformers datasets pillow==9.4.0 fastai tqdm\n",
        "\n",
        "# auto restart runtime \n",
        "import os\n",
        "os.kill(os.getpid(), 9)"
      ],
      "metadata": {
        "colab": {
          "base_uri": "https://localhost:8080/",
          "height": 1000
        },
        "id": "tPNUpiZdUcIq",
        "outputId": "426ea401-18fc-4d94-9c44-c8c91aad4e9b"
      },
      "execution_count": null,
      "outputs": [
        {
          "output_type": "stream",
          "name": "stdout",
          "text": [
            "Looking in indexes: https://pypi.org/simple, https://us-python.pkg.dev/colab-wheels/public/simple/\n",
            "Collecting transformers\n",
            "  Downloading transformers-4.26.1-py3-none-any.whl (6.3 MB)\n",
            "\u001b[2K     \u001b[90m━━━━━━━━━━━━━━━━━━━━━━━━━━━━━━━━━━━━━━━━\u001b[0m \u001b[32m6.3/6.3 MB\u001b[0m \u001b[31m75.0 MB/s\u001b[0m eta \u001b[36m0:00:00\u001b[0m\n",
            "\u001b[?25hCollecting datasets\n",
            "  Downloading datasets-2.10.1-py3-none-any.whl (469 kB)\n",
            "\u001b[2K     \u001b[90m━━━━━━━━━━━━━━━━━━━━━━━━━━━━━━━━━━━━━━\u001b[0m \u001b[32m469.0/469.0 KB\u001b[0m \u001b[31m39.9 MB/s\u001b[0m eta \u001b[36m0:00:00\u001b[0m\n",
            "\u001b[?25hCollecting pillow==9.4.0\n",
            "  Downloading Pillow-9.4.0-cp39-cp39-manylinux_2_28_x86_64.whl (3.4 MB)\n",
            "\u001b[2K     \u001b[90m━━━━━━━━━━━━━━━━━━━━━━━━━━━━━━━━━━━━━━━━\u001b[0m \u001b[32m3.4/3.4 MB\u001b[0m \u001b[31m91.5 MB/s\u001b[0m eta \u001b[36m0:00:00\u001b[0m\n",
            "\u001b[?25hRequirement already satisfied: fastai in /usr/local/lib/python3.9/dist-packages (2.7.11)\n",
            "Requirement already satisfied: tqdm in /usr/local/lib/python3.9/dist-packages (4.65.0)\n",
            "Collecting huggingface-hub<1.0,>=0.11.0\n",
            "  Downloading huggingface_hub-0.13.0-py3-none-any.whl (199 kB)\n",
            "\u001b[2K     \u001b[90m━━━━━━━━━━━━━━━━━━━━━━━━━━━━━━━━━━━━━━\u001b[0m \u001b[32m199.1/199.1 KB\u001b[0m \u001b[31m21.9 MB/s\u001b[0m eta \u001b[36m0:00:00\u001b[0m\n",
            "\u001b[?25hRequirement already satisfied: pyyaml>=5.1 in /usr/local/lib/python3.9/dist-packages (from transformers) (6.0)\n",
            "Requirement already satisfied: requests in /usr/local/lib/python3.9/dist-packages (from transformers) (2.25.1)\n",
            "Requirement already satisfied: packaging>=20.0 in /usr/local/lib/python3.9/dist-packages (from transformers) (23.0)\n",
            "Collecting tokenizers!=0.11.3,<0.14,>=0.11.1\n",
            "  Downloading tokenizers-0.13.2-cp39-cp39-manylinux_2_17_x86_64.manylinux2014_x86_64.whl (7.6 MB)\n",
            "\u001b[2K     \u001b[90m━━━━━━━━━━━━━━━━━━━━━━━━━━━━━━━━━━━━━━━━\u001b[0m \u001b[32m7.6/7.6 MB\u001b[0m \u001b[31m55.8 MB/s\u001b[0m eta \u001b[36m0:00:00\u001b[0m\n",
            "\u001b[?25hRequirement already satisfied: numpy>=1.17 in /usr/local/lib/python3.9/dist-packages (from transformers) (1.22.4)\n",
            "Requirement already satisfied: regex!=2019.12.17 in /usr/local/lib/python3.9/dist-packages (from transformers) (2022.6.2)\n",
            "Requirement already satisfied: filelock in /usr/local/lib/python3.9/dist-packages (from transformers) (3.9.0)\n",
            "Requirement already satisfied: fsspec[http]>=2021.11.1 in /usr/local/lib/python3.9/dist-packages (from datasets) (2023.3.0)\n",
            "Collecting dill<0.3.7,>=0.3.0\n",
            "  Downloading dill-0.3.6-py3-none-any.whl (110 kB)\n",
            "\u001b[2K     \u001b[90m━━━━━━━━━━━━━━━━━━━━━━━━━━━━━━━━━━━━━━\u001b[0m \u001b[32m110.5/110.5 KB\u001b[0m \u001b[31m12.4 MB/s\u001b[0m eta \u001b[36m0:00:00\u001b[0m\n",
            "\u001b[?25hCollecting multiprocess\n",
            "  Downloading multiprocess-0.70.14-py39-none-any.whl (132 kB)\n",
            "\u001b[2K     \u001b[90m━━━━━━━━━━━━━━━━━━━━━━━━━━━━━━━━━━━━━━\u001b[0m \u001b[32m132.9/132.9 KB\u001b[0m \u001b[31m17.3 MB/s\u001b[0m eta \u001b[36m0:00:00\u001b[0m\n",
            "\u001b[?25hCollecting aiohttp\n",
            "  Downloading aiohttp-3.8.4-cp39-cp39-manylinux_2_17_x86_64.manylinux2014_x86_64.whl (1.0 MB)\n",
            "\u001b[2K     \u001b[90m━━━━━━━━━━━━━━━━━━━━━━━━━━━━━━━━━━━━━━━━\u001b[0m \u001b[32m1.0/1.0 MB\u001b[0m \u001b[31m68.2 MB/s\u001b[0m eta \u001b[36m0:00:00\u001b[0m\n",
            "\u001b[?25hRequirement already satisfied: pyarrow>=6.0.0 in /usr/local/lib/python3.9/dist-packages (from datasets) (9.0.0)\n",
            "Collecting xxhash\n",
            "  Downloading xxhash-3.2.0-cp39-cp39-manylinux_2_17_x86_64.manylinux2014_x86_64.whl (212 kB)\n",
            "\u001b[2K     \u001b[90m━━━━━━━━━━━━━━━━━━━━━━━━━━━━━━━━━━━━━━\u001b[0m \u001b[32m212.2/212.2 KB\u001b[0m \u001b[31m26.4 MB/s\u001b[0m eta \u001b[36m0:00:00\u001b[0m\n",
            "\u001b[?25hRequirement already satisfied: pandas in /usr/local/lib/python3.9/dist-packages (from datasets) (1.3.5)\n",
            "Collecting responses<0.19\n",
            "  Downloading responses-0.18.0-py3-none-any.whl (38 kB)\n",
            "Requirement already satisfied: fastcore<1.6,>=1.4.5 in /usr/local/lib/python3.9/dist-packages (from fastai) (1.5.28)\n",
            "Requirement already satisfied: matplotlib in /usr/local/lib/python3.9/dist-packages (from fastai) (3.5.3)\n",
            "Requirement already satisfied: scipy in /usr/local/lib/python3.9/dist-packages (from fastai) (1.10.1)\n",
            "Requirement already satisfied: pip in /usr/local/lib/python3.9/dist-packages (from fastai) (22.0.4)\n",
            "Requirement already satisfied: scikit-learn in /usr/local/lib/python3.9/dist-packages (from fastai) (1.2.1)\n",
            "Requirement already satisfied: spacy<4 in /usr/local/lib/python3.9/dist-packages (from fastai) (3.4.4)\n",
            "Requirement already satisfied: fastprogress>=0.2.4 in /usr/local/lib/python3.9/dist-packages (from fastai) (1.0.3)\n",
            "Requirement already satisfied: fastdownload<2,>=0.0.5 in /usr/local/lib/python3.9/dist-packages (from fastai) (0.0.7)\n",
            "Requirement already satisfied: torch<1.14,>=1.7 in /usr/local/lib/python3.9/dist-packages (from fastai) (1.13.1+cu116)\n",
            "Requirement already satisfied: torchvision>=0.8.2 in /usr/local/lib/python3.9/dist-packages (from fastai) (0.14.1+cu116)\n",
            "Collecting yarl<2.0,>=1.0\n",
            "  Downloading yarl-1.8.2-cp39-cp39-manylinux_2_17_x86_64.manylinux2014_x86_64.whl (264 kB)\n",
            "\u001b[2K     \u001b[90m━━━━━━━━━━━━━━━━━━━━━━━━━━━━━━━━━━━━━━\u001b[0m \u001b[32m264.6/264.6 KB\u001b[0m \u001b[31m27.5 MB/s\u001b[0m eta \u001b[36m0:00:00\u001b[0m\n",
            "\u001b[?25hCollecting async-timeout<5.0,>=4.0.0a3\n",
            "  Downloading async_timeout-4.0.2-py3-none-any.whl (5.8 kB)\n",
            "Collecting aiosignal>=1.1.2\n",
            "  Downloading aiosignal-1.3.1-py3-none-any.whl (7.6 kB)\n",
            "Requirement already satisfied: attrs>=17.3.0 in /usr/local/lib/python3.9/dist-packages (from aiohttp->datasets) (22.2.0)\n",
            "Collecting frozenlist>=1.1.1\n",
            "  Downloading frozenlist-1.3.3-cp39-cp39-manylinux_2_5_x86_64.manylinux1_x86_64.manylinux_2_17_x86_64.manylinux2014_x86_64.whl (158 kB)\n",
            "\u001b[2K     \u001b[90m━━━━━━━━━━━━━━━━━━━━━━━━━━━━━━━━━━━━━━\u001b[0m \u001b[32m158.8/158.8 KB\u001b[0m \u001b[31m19.1 MB/s\u001b[0m eta \u001b[36m0:00:00\u001b[0m\n",
            "\u001b[?25hCollecting multidict<7.0,>=4.5\n",
            "  Downloading multidict-6.0.4-cp39-cp39-manylinux_2_17_x86_64.manylinux2014_x86_64.whl (114 kB)\n",
            "\u001b[2K     \u001b[90m━━━━━━━━━━━━━━━━━━━━━━━━━━━━━━━━━━━━━━\u001b[0m \u001b[32m114.2/114.2 KB\u001b[0m \u001b[31m13.7 MB/s\u001b[0m eta \u001b[36m0:00:00\u001b[0m\n",
            "\u001b[?25hCollecting charset-normalizer<4.0,>=2.0\n",
            "  Downloading charset_normalizer-3.1.0-cp39-cp39-manylinux_2_17_x86_64.manylinux2014_x86_64.whl (199 kB)\n",
            "\u001b[2K     \u001b[90m━━━━━━━━━━━━━━━━━━━━━━━━━━━━━━━━━━━━━━\u001b[0m \u001b[32m199.2/199.2 KB\u001b[0m \u001b[31m22.4 MB/s\u001b[0m eta \u001b[36m0:00:00\u001b[0m\n",
            "\u001b[?25hRequirement already satisfied: typing-extensions>=3.7.4.3 in /usr/local/lib/python3.9/dist-packages (from huggingface-hub<1.0,>=0.11.0->transformers) (4.5.0)\n",
            "Requirement already satisfied: chardet<5,>=3.0.2 in /usr/local/lib/python3.9/dist-packages (from requests->transformers) (4.0.0)\n",
            "Requirement already satisfied: certifi>=2017.4.17 in /usr/local/lib/python3.9/dist-packages (from requests->transformers) (2022.12.7)\n",
            "Requirement already satisfied: idna<3,>=2.5 in /usr/local/lib/python3.9/dist-packages (from requests->transformers) (2.10)\n",
            "Requirement already satisfied: urllib3<1.27,>=1.21.1 in /usr/local/lib/python3.9/dist-packages (from requests->transformers) (1.26.14)\n",
            "Requirement already satisfied: pydantic!=1.8,!=1.8.1,<1.11.0,>=1.7.4 in /usr/local/lib/python3.9/dist-packages (from spacy<4->fastai) (1.10.5)\n",
            "Requirement already satisfied: murmurhash<1.1.0,>=0.28.0 in /usr/local/lib/python3.9/dist-packages (from spacy<4->fastai) (1.0.9)\n",
            "Requirement already satisfied: langcodes<4.0.0,>=3.2.0 in /usr/local/lib/python3.9/dist-packages (from spacy<4->fastai) (3.3.0)\n",
            "Requirement already satisfied: spacy-legacy<3.1.0,>=3.0.10 in /usr/local/lib/python3.9/dist-packages (from spacy<4->fastai) (3.0.12)\n",
            "Requirement already satisfied: spacy-loggers<2.0.0,>=1.0.0 in /usr/local/lib/python3.9/dist-packages (from spacy<4->fastai) (1.0.4)\n",
            "Requirement already satisfied: jinja2 in /usr/local/lib/python3.9/dist-packages (from spacy<4->fastai) (3.1.2)\n",
            "Requirement already satisfied: wasabi<1.1.0,>=0.9.1 in /usr/local/lib/python3.9/dist-packages (from spacy<4->fastai) (0.10.1)\n",
            "Requirement already satisfied: typer<0.8.0,>=0.3.0 in /usr/local/lib/python3.9/dist-packages (from spacy<4->fastai) (0.7.0)\n",
            "Requirement already satisfied: catalogue<2.1.0,>=2.0.6 in /usr/local/lib/python3.9/dist-packages (from spacy<4->fastai) (2.0.8)\n",
            "Requirement already satisfied: thinc<8.2.0,>=8.1.0 in /usr/local/lib/python3.9/dist-packages (from spacy<4->fastai) (8.1.8)\n",
            "Requirement already satisfied: preshed<3.1.0,>=3.0.2 in /usr/local/lib/python3.9/dist-packages (from spacy<4->fastai) (3.0.8)\n",
            "Requirement already satisfied: pathy>=0.3.5 in /usr/local/lib/python3.9/dist-packages (from spacy<4->fastai) (0.10.1)\n",
            "Requirement already satisfied: smart-open<7.0.0,>=5.2.1 in /usr/local/lib/python3.9/dist-packages (from spacy<4->fastai) (6.3.0)\n",
            "Requirement already satisfied: cymem<2.1.0,>=2.0.2 in /usr/local/lib/python3.9/dist-packages (from spacy<4->fastai) (2.0.7)\n",
            "Requirement already satisfied: setuptools in /usr/local/lib/python3.9/dist-packages (from spacy<4->fastai) (57.4.0)\n",
            "Requirement already satisfied: srsly<3.0.0,>=2.4.3 in /usr/local/lib/python3.9/dist-packages (from spacy<4->fastai) (2.4.6)\n",
            "Requirement already satisfied: fonttools>=4.22.0 in /usr/local/lib/python3.9/dist-packages (from matplotlib->fastai) (4.39.0)\n",
            "Requirement already satisfied: pyparsing>=2.2.1 in /usr/local/lib/python3.9/dist-packages (from matplotlib->fastai) (3.0.9)\n",
            "Requirement already satisfied: cycler>=0.10 in /usr/local/lib/python3.9/dist-packages (from matplotlib->fastai) (0.11.0)\n",
            "Requirement already satisfied: kiwisolver>=1.0.1 in /usr/local/lib/python3.9/dist-packages (from matplotlib->fastai) (1.4.4)\n",
            "Requirement already satisfied: python-dateutil>=2.7 in /usr/local/lib/python3.9/dist-packages (from matplotlib->fastai) (2.8.2)\n",
            "Requirement already satisfied: pytz>=2017.3 in /usr/local/lib/python3.9/dist-packages (from pandas->datasets) (2022.7.1)\n",
            "Requirement already satisfied: threadpoolctl>=2.0.0 in /usr/local/lib/python3.9/dist-packages (from scikit-learn->fastai) (3.1.0)\n",
            "Requirement already satisfied: joblib>=1.1.1 in /usr/local/lib/python3.9/dist-packages (from scikit-learn->fastai) (1.2.0)\n",
            "Requirement already satisfied: six>=1.5 in /usr/local/lib/python3.9/dist-packages (from python-dateutil>=2.7->matplotlib->fastai) (1.15.0)\n",
            "Requirement already satisfied: confection<1.0.0,>=0.0.1 in /usr/local/lib/python3.9/dist-packages (from thinc<8.2.0,>=8.1.0->spacy<4->fastai) (0.0.4)\n",
            "Requirement already satisfied: blis<0.8.0,>=0.7.8 in /usr/local/lib/python3.9/dist-packages (from thinc<8.2.0,>=8.1.0->spacy<4->fastai) (0.7.9)\n",
            "Requirement already satisfied: click<9.0.0,>=7.1.1 in /usr/local/lib/python3.9/dist-packages (from typer<0.8.0,>=0.3.0->spacy<4->fastai) (8.1.3)\n",
            "Requirement already satisfied: MarkupSafe>=2.0 in /usr/local/lib/python3.9/dist-packages (from jinja2->spacy<4->fastai) (2.1.2)\n",
            "Installing collected packages: tokenizers, xxhash, pillow, multidict, frozenlist, dill, charset-normalizer, async-timeout, yarl, responses, multiprocess, huggingface-hub, aiosignal, transformers, aiohttp, datasets\n",
            "  Attempting uninstall: pillow\n",
            "    Found existing installation: Pillow 8.4.0\n",
            "    Uninstalling Pillow-8.4.0:\n",
            "      Successfully uninstalled Pillow-8.4.0\n",
            "Successfully installed aiohttp-3.8.4 aiosignal-1.3.1 async-timeout-4.0.2 charset-normalizer-3.1.0 datasets-2.10.1 dill-0.3.6 frozenlist-1.3.3 huggingface-hub-0.13.0 multidict-6.0.4 multiprocess-0.70.14 pillow-9.4.0 responses-0.18.0 tokenizers-0.13.2 transformers-4.26.1 xxhash-3.2.0 yarl-1.8.2\n"
          ]
        },
        {
          "output_type": "display_data",
          "data": {
            "application/vnd.colab-display-data+json": {
              "pip_warning": {
                "packages": [
                  "PIL"
                ]
              }
            }
          },
          "metadata": {}
        }
      ]
    },
    {
      "cell_type": "markdown",
      "source": [
        "#Basic Setup"
      ],
      "metadata": {
        "id": "VjZ83tEydCsb"
      }
    },
    {
      "cell_type": "code",
      "source": [
        "from google.colab import drive\n",
        "drive.mount('/content/drive')"
      ],
      "metadata": {
        "colab": {
          "base_uri": "https://localhost:8080/"
        },
        "id": "d0pfiU7ndBKu",
        "outputId": "43eed235-fd0b-4c84-f84d-4deb74b62b5d"
      },
      "execution_count": null,
      "outputs": [
        {
          "output_type": "stream",
          "name": "stdout",
          "text": [
            "Mounted at /content/drive\n"
          ]
        }
      ]
    },
    {
      "cell_type": "markdown",
      "source": [
        "## Connecting to Kaggle and dowload the dataset "
      ],
      "metadata": {
        "id": "bW_b8QwAeMBy"
      }
    },
    {
      "cell_type": "code",
      "source": [
        "! pip install -q kaggle # install kaggle"
      ],
      "metadata": {
        "id": "QYx7jhpmeNCR"
      },
      "execution_count": null,
      "outputs": []
    },
    {
      "cell_type": "code",
      "source": [
        "# Connect to kaggle \n",
        "!mkdir ~/.kaggle\n",
        "!cp /content/drive/MyDrive/colab/kaggle.json ~/.kaggle/ #copy api key ---- depend on your directory -- my directory is .../colab/..\n",
        "!chmod 600 ~/.kaggle/kaggle.json\n",
        "!kaggle datasets list"
      ],
      "metadata": {
        "id": "adlNKIoEeaCB",
        "colab": {
          "base_uri": "https://localhost:8080/"
        },
        "outputId": "1c15a7eb-71b1-487d-c087-767844773b1e"
      },
      "execution_count": null,
      "outputs": [
        {
          "output_type": "stream",
          "name": "stdout",
          "text": [
            "ref                                                        title                                        size  lastUpdated          downloadCount  voteCount  usabilityRating  \n",
            "---------------------------------------------------------  ------------------------------------------  -----  -------------------  -------------  ---------  ---------------  \n",
            "themrityunjaypathak/covid-cases-and-deaths-worldwide       Covid Cases and Deaths WorldWide              8KB  2023-02-01 12:22:51           9607        318  1.0              \n",
            "datascientistanna/customers-dataset                        Shop Customer Data                           23KB  2023-02-07 18:42:21           8077        200  1.0              \n",
            "justin2028/unemployment-in-america-per-us-state            Unemployment in America, Per US State       826KB  2023-03-02 07:26:03            636         42  1.0              \n",
            "anas123siddiqui/mobiles                                    Mobiles                                      59KB  2023-02-18 16:37:24           1275         37  1.0              \n",
            "amaanansari09/top-100-songs                                Top 100 songs                                 6KB  2023-02-16 18:55:35           2533         80  1.0              \n",
            "thedevastator/airbnb-prices-in-european-cities             Airbnb Prices in European Cities              4MB  2023-02-20 09:48:04           2648         56  1.0              \n",
            "nikhilmahajan29/crop-production-statistics-india           Crop Production Statistics - India            3MB  2023-02-28 18:45:13            848         31  1.0              \n",
            "rajugc/imdb-top-250-movies-dataset                         IMDB Top 250 Movies Dataset                  52KB  2023-02-11 16:02:01           3389         80  1.0              \n",
            "karkavelrajaj/amazon-sales-dataset                         Amazon Sales Dataset                          2MB  2023-01-17 06:21:15          10361        152  1.0              \n",
            "ulrikthygepedersen/mushroom-attributes                     Mushroom Attributes                          58KB  2023-02-10 08:58:02            804         27  1.0              \n",
            "rajkumarpandey02/countries-by-carbon-dioxide-emissions     Countries by Carbon Dioxide Emissions.        7KB  2023-02-25 17:51:36            853         35  1.0              \n",
            "shrikrishnaparab/forbes-billionaires-and-companies-2022    Forbes Billionaires and Companies 2022      735KB  2023-02-17 06:15:43            773         22  1.0              \n",
            "niraliivaghani/chatbot-dataset                             Chatbot dataset                               5KB  2023-02-19 05:49:34            953         33  1.0              \n",
            "thedevastator/bigmart-product-sales-factors                BigMart Product Sales Factors               367KB  2023-02-10 10:36:55            884         27  0.88235295       \n",
            "warcoder/earthquake-dataset                                Earthquake dataset                           35KB  2023-02-26 09:59:04            734         30  1.0              \n",
            "belayethossainds/the-worlds-billionaires-dataset-19872022  The World's Billionaires Dataset 1987~2022    5KB  2023-02-23 07:14:19            519         28  1.0              \n",
            "thedevastator/domestic-food-prices-after-covid-19          Domestic Food Prices After COVID-19           1MB  2023-02-13 01:45:15           2370         45  1.0              \n",
            "warcoder/dog-breeds-details                                Dog breeds details                            3KB  2023-03-02 14:01:08            662         28  0.9411765        \n",
            "dansbecker/melbourne-housing-snapshot                      Melbourne Housing Snapshot                  451KB  2018-06-05 12:52:24         108990       1221  0.7058824        \n",
            "rayhan32/nba-player-status-2003-2023-23k-data              NBA player status 2003-2023 (2.3K+ data)     89KB  2023-02-23 07:08:39            528         22  1.0              \n"
          ]
        }
      ]
    },
    {
      "cell_type": "code",
      "source": [
        "#download competition dataset\n",
        "!kaggle competitions download -c uwb-pose-prediction"
      ],
      "metadata": {
        "id": "hwRhmAdWevmZ",
        "colab": {
          "base_uri": "https://localhost:8080/"
        },
        "outputId": "52e5152b-c8ce-4c6b-9c76-25266809fcbf"
      },
      "execution_count": null,
      "outputs": [
        {
          "output_type": "stream",
          "name": "stdout",
          "text": [
            "Downloading uwb-pose-prediction.zip to /content\n",
            "100% 984M/987M [02:58<00:00, 11.2MB/s]\n",
            "100% 987M/987M [02:58<00:00, 5.78MB/s]\n"
          ]
        }
      ]
    },
    {
      "cell_type": "markdown",
      "source": [
        "## Unzip file"
      ],
      "metadata": {
        "id": "tLxFgLlFfPZs"
      }
    },
    {
      "cell_type": "code",
      "source": [
        "!unzip /content/uwb-pose-prediction.zip"
      ],
      "metadata": {
        "id": "oQghS90LfPIc"
      },
      "execution_count": null,
      "outputs": []
    },
    {
      "cell_type": "markdown",
      "source": [
        "# starting our projcet"
      ],
      "metadata": {
        "id": "i3HvzQRafmPF"
      }
    },
    {
      "cell_type": "markdown",
      "source": [
        "## import our module"
      ],
      "metadata": {
        "id": "8ikqk-Hqfqu_"
      }
    },
    {
      "cell_type": "code",
      "source": [
        "# mostly use library for all project\n",
        "import numpy as np # linear algebra\n",
        "import pandas as pd # data processing, CSV file I/O (e.g. pd.read_csv)\n",
        "import matplotlib.pyplot as plt #graph\n",
        "\n",
        "# project management \n",
        "import json # for json file\n",
        "import os # for path\n",
        "from glob import glob # for path\n",
        "\n",
        "\n",
        "## Tensor\n",
        "# import tensorflow as tf\n",
        "# import tensorflow.keras as keras\n",
        "\n",
        "\n",
        "# torch library\n",
        "import torch # mainly use library for model development\n",
        "import torchvision.transforms as transforms \n",
        "from torch.utils.data import Dataset, DataLoader\n",
        "import torch.nn as nn \n",
        "import torch.nn.functional as F\n",
        "\n",
        "# for image processing\n",
        "import cv2 # for image\n",
        "import matplotlib.image as mpimg\n",
        "from PIL import Image, ImageOps \n",
        "import PIL\n",
        "\n",
        "# HuggingFace library\n",
        "import transformers \n",
        "from transformers import TrainingArguments, Trainer\n",
        "import datasets\n",
        "from datasets import load_dataset\n",
        "\n",
        "# I don't know \n",
        "import math\n",
        "import time\n",
        "\n",
        "\n",
        "%matplotlib inline"
      ],
      "metadata": {
        "id": "iYkRdaoofkDL"
      },
      "execution_count": null,
      "outputs": []
    },
    {
      "cell_type": "code",
      "source": [
        "from fastai.vision.all import *"
      ],
      "metadata": {
        "id": "sThgFX32f2jW"
      },
      "execution_count": null,
      "outputs": []
    },
    {
      "cell_type": "code",
      "source": [
        "from tqdm.notebook import tqdm\n",
        "import plotly.express as px\n",
        "tqdm.pandas()\n"
      ],
      "metadata": {
        "id": "T3_jRpj2pHvS"
      },
      "execution_count": null,
      "outputs": []
    },
    {
      "cell_type": "code",
      "source": [
        "from sklearn.model_selection import train_test_split\n",
        "from sklearn.pipeline import make_pipeline\n",
        "from sklearn.preprocessing import StandardScaler\n",
        "from sklearn.ensemble import RandomForestRegressor"
      ],
      "metadata": {
        "id": "sjrTObJrpSxo"
      },
      "execution_count": null,
      "outputs": []
    },
    {
      "cell_type": "code",
      "source": [
        "from pathlib import Path"
      ],
      "metadata": {
        "id": "pkEf69fUj7_K"
      },
      "execution_count": null,
      "outputs": []
    },
    {
      "cell_type": "code",
      "source": [
        "from glob import glob"
      ],
      "metadata": {
        "id": "SjmIYjjfrmzM"
      },
      "execution_count": null,
      "outputs": []
    },
    {
      "cell_type": "markdown",
      "source": [
        "Setup Path"
      ],
      "metadata": {
        "id": "upszTr8bf8yM"
      }
    },
    {
      "cell_type": "code",
      "source": [
        "HOME_PATH = Path(os.getcwd())\n",
        "TEST_PATH = Path(\"/content/test/test\")\n",
        "TRAIN_PATH = Path(\"/content/train/train\")\n",
        "SUBMIT_PATH_CSV = Path(\"/content/sample_submission.csv\")\n",
        "ANNOTATION_PATH =Path(\"/content/annotations.csv\") # get labels\n"
      ],
      "metadata": {
        "id": "ch3EjwSEf_V6"
      },
      "execution_count": null,
      "outputs": []
    },
    {
      "cell_type": "markdown",
      "source": [
        "## Set up dataframe"
      ],
      "metadata": {
        "id": "TvUDKCX6e33M"
      }
    },
    {
      "cell_type": "code",
      "source": [
        "df = pd.read_csv(ANNOTATION_PATH)\n",
        "df['id'] = df['id'].map(lambda x: TRAIN_PATH/(x+\".npy\"))\n",
        "df"
      ],
      "metadata": {
        "colab": {
          "base_uri": "https://localhost:8080/",
          "height": 424
        },
        "id": "ds7R-VJfe3qY",
        "outputId": "9e5299a2-3ea4-4ab0-ef7e-104e5997595b"
      },
      "execution_count": null,
      "outputs": [
        {
          "output_type": "execute_result",
          "data": {
            "text/plain": [
              "                                                                id  class\n",
              "0    /content/train/train/80a8dc1d-b216-469c-91b1-fc257562a883.npy      0\n",
              "1    /content/train/train/3ab012da-927a-40d6-95f8-5a2f96dad360.npy      0\n",
              "2    /content/train/train/eef92f84-5127-4063-a4a2-fee4035b1ac7.npy      0\n",
              "3    /content/train/train/8d562739-6502-4a6c-8b83-e029b795f685.npy      0\n",
              "4    /content/train/train/404c2e92-1101-4e62-83bf-a6fdb7dfcb9a.npy      0\n",
              "..                                                             ...    ...\n",
              "642  /content/train/train/ea5513a7-f18a-4393-8ab4-44e574e70f2b.npy      4\n",
              "643  /content/train/train/edf4aec3-410d-4ed3-90d2-12671bb4c625.npy      4\n",
              "644  /content/train/train/297e1f02-66ac-4e4e-849a-da2f1103e8a0.npy      4\n",
              "645  /content/train/train/926418bb-2e66-4c82-82b1-13a82faf73b4.npy      4\n",
              "646  /content/train/train/e24e1356-ea01-4189-a3d3-15bfb145b7a5.npy      4\n",
              "\n",
              "[647 rows x 2 columns]"
            ],
            "text/html": [
              "\n",
              "  <div id=\"df-9412dbe3-3f4d-44b0-a924-90303e61a702\">\n",
              "    <div class=\"colab-df-container\">\n",
              "      <div>\n",
              "<style scoped>\n",
              "    .dataframe tbody tr th:only-of-type {\n",
              "        vertical-align: middle;\n",
              "    }\n",
              "\n",
              "    .dataframe tbody tr th {\n",
              "        vertical-align: top;\n",
              "    }\n",
              "\n",
              "    .dataframe thead th {\n",
              "        text-align: right;\n",
              "    }\n",
              "</style>\n",
              "<table border=\"1\" class=\"dataframe\">\n",
              "  <thead>\n",
              "    <tr style=\"text-align: right;\">\n",
              "      <th></th>\n",
              "      <th>id</th>\n",
              "      <th>class</th>\n",
              "    </tr>\n",
              "  </thead>\n",
              "  <tbody>\n",
              "    <tr>\n",
              "      <th>0</th>\n",
              "      <td>/content/train/train/80a8dc1d-b216-469c-91b1-fc257562a883.npy</td>\n",
              "      <td>0</td>\n",
              "    </tr>\n",
              "    <tr>\n",
              "      <th>1</th>\n",
              "      <td>/content/train/train/3ab012da-927a-40d6-95f8-5a2f96dad360.npy</td>\n",
              "      <td>0</td>\n",
              "    </tr>\n",
              "    <tr>\n",
              "      <th>2</th>\n",
              "      <td>/content/train/train/eef92f84-5127-4063-a4a2-fee4035b1ac7.npy</td>\n",
              "      <td>0</td>\n",
              "    </tr>\n",
              "    <tr>\n",
              "      <th>3</th>\n",
              "      <td>/content/train/train/8d562739-6502-4a6c-8b83-e029b795f685.npy</td>\n",
              "      <td>0</td>\n",
              "    </tr>\n",
              "    <tr>\n",
              "      <th>4</th>\n",
              "      <td>/content/train/train/404c2e92-1101-4e62-83bf-a6fdb7dfcb9a.npy</td>\n",
              "      <td>0</td>\n",
              "    </tr>\n",
              "    <tr>\n",
              "      <th>...</th>\n",
              "      <td>...</td>\n",
              "      <td>...</td>\n",
              "    </tr>\n",
              "    <tr>\n",
              "      <th>642</th>\n",
              "      <td>/content/train/train/ea5513a7-f18a-4393-8ab4-44e574e70f2b.npy</td>\n",
              "      <td>4</td>\n",
              "    </tr>\n",
              "    <tr>\n",
              "      <th>643</th>\n",
              "      <td>/content/train/train/edf4aec3-410d-4ed3-90d2-12671bb4c625.npy</td>\n",
              "      <td>4</td>\n",
              "    </tr>\n",
              "    <tr>\n",
              "      <th>644</th>\n",
              "      <td>/content/train/train/297e1f02-66ac-4e4e-849a-da2f1103e8a0.npy</td>\n",
              "      <td>4</td>\n",
              "    </tr>\n",
              "    <tr>\n",
              "      <th>645</th>\n",
              "      <td>/content/train/train/926418bb-2e66-4c82-82b1-13a82faf73b4.npy</td>\n",
              "      <td>4</td>\n",
              "    </tr>\n",
              "    <tr>\n",
              "      <th>646</th>\n",
              "      <td>/content/train/train/e24e1356-ea01-4189-a3d3-15bfb145b7a5.npy</td>\n",
              "      <td>4</td>\n",
              "    </tr>\n",
              "  </tbody>\n",
              "</table>\n",
              "<p>647 rows × 2 columns</p>\n",
              "</div>\n",
              "      <button class=\"colab-df-convert\" onclick=\"convertToInteractive('df-9412dbe3-3f4d-44b0-a924-90303e61a702')\"\n",
              "              title=\"Convert this dataframe to an interactive table.\"\n",
              "              style=\"display:none;\">\n",
              "        \n",
              "  <svg xmlns=\"http://www.w3.org/2000/svg\" height=\"24px\"viewBox=\"0 0 24 24\"\n",
              "       width=\"24px\">\n",
              "    <path d=\"M0 0h24v24H0V0z\" fill=\"none\"/>\n",
              "    <path d=\"M18.56 5.44l.94 2.06.94-2.06 2.06-.94-2.06-.94-.94-2.06-.94 2.06-2.06.94zm-11 1L8.5 8.5l.94-2.06 2.06-.94-2.06-.94L8.5 2.5l-.94 2.06-2.06.94zm10 10l.94 2.06.94-2.06 2.06-.94-2.06-.94-.94-2.06-.94 2.06-2.06.94z\"/><path d=\"M17.41 7.96l-1.37-1.37c-.4-.4-.92-.59-1.43-.59-.52 0-1.04.2-1.43.59L10.3 9.45l-7.72 7.72c-.78.78-.78 2.05 0 2.83L4 21.41c.39.39.9.59 1.41.59.51 0 1.02-.2 1.41-.59l7.78-7.78 2.81-2.81c.8-.78.8-2.07 0-2.86zM5.41 20L4 18.59l7.72-7.72 1.47 1.35L5.41 20z\"/>\n",
              "  </svg>\n",
              "      </button>\n",
              "      \n",
              "  <style>\n",
              "    .colab-df-container {\n",
              "      display:flex;\n",
              "      flex-wrap:wrap;\n",
              "      gap: 12px;\n",
              "    }\n",
              "\n",
              "    .colab-df-convert {\n",
              "      background-color: #E8F0FE;\n",
              "      border: none;\n",
              "      border-radius: 50%;\n",
              "      cursor: pointer;\n",
              "      display: none;\n",
              "      fill: #1967D2;\n",
              "      height: 32px;\n",
              "      padding: 0 0 0 0;\n",
              "      width: 32px;\n",
              "    }\n",
              "\n",
              "    .colab-df-convert:hover {\n",
              "      background-color: #E2EBFA;\n",
              "      box-shadow: 0px 1px 2px rgba(60, 64, 67, 0.3), 0px 1px 3px 1px rgba(60, 64, 67, 0.15);\n",
              "      fill: #174EA6;\n",
              "    }\n",
              "\n",
              "    [theme=dark] .colab-df-convert {\n",
              "      background-color: #3B4455;\n",
              "      fill: #D2E3FC;\n",
              "    }\n",
              "\n",
              "    [theme=dark] .colab-df-convert:hover {\n",
              "      background-color: #434B5C;\n",
              "      box-shadow: 0px 1px 3px 1px rgba(0, 0, 0, 0.15);\n",
              "      filter: drop-shadow(0px 1px 2px rgba(0, 0, 0, 0.3));\n",
              "      fill: #FFFFFF;\n",
              "    }\n",
              "  </style>\n",
              "\n",
              "      <script>\n",
              "        const buttonEl =\n",
              "          document.querySelector('#df-9412dbe3-3f4d-44b0-a924-90303e61a702 button.colab-df-convert');\n",
              "        buttonEl.style.display =\n",
              "          google.colab.kernel.accessAllowed ? 'block' : 'none';\n",
              "\n",
              "        async function convertToInteractive(key) {\n",
              "          const element = document.querySelector('#df-9412dbe3-3f4d-44b0-a924-90303e61a702');\n",
              "          const dataTable =\n",
              "            await google.colab.kernel.invokeFunction('convertToInteractive',\n",
              "                                                     [key], {});\n",
              "          if (!dataTable) return;\n",
              "\n",
              "          const docLinkHtml = 'Like what you see? Visit the ' +\n",
              "            '<a target=\"_blank\" href=https://colab.research.google.com/notebooks/data_table.ipynb>data table notebook</a>'\n",
              "            + ' to learn more about interactive tables.';\n",
              "          element.innerHTML = '';\n",
              "          dataTable['output_type'] = 'display_data';\n",
              "          await google.colab.output.renderOutput(dataTable, element);\n",
              "          const docLink = document.createElement('div');\n",
              "          docLink.innerHTML = docLinkHtml;\n",
              "          element.appendChild(docLink);\n",
              "        }\n",
              "      </script>\n",
              "    </div>\n",
              "  </div>\n",
              "  "
            ]
          },
          "metadata": {},
          "execution_count": 13
        }
      ]
    },
    {
      "cell_type": "code",
      "source": [
        "sample = np.load(df['id'][0])\n",
        "print(sample.shape)\n",
        "sample"
      ],
      "metadata": {
        "colab": {
          "base_uri": "https://localhost:8080/"
        },
        "id": "NC6pd8UzkS8y",
        "outputId": "59c151d3-3084-4aed-e9e6-553578f4c912"
      },
      "execution_count": null,
      "outputs": [
        {
          "output_type": "stream",
          "name": "stdout",
          "text": [
            "(2560, 56)\n"
          ]
        },
        {
          "output_type": "execute_result",
          "data": {
            "text/plain": [
              "array([[ 1.19055156e-02+2.67607253e-03j,  7.79571570e-03-6.37568068e-04j,\n",
              "         6.48218300e-03-2.65416177e-03j, ...,\n",
              "         6.79764125e-05+4.33030473e-05j,  2.01755101e-05-4.68734070e-05j,\n",
              "         2.94903530e-05-4.16475195e-05j],\n",
              "       [ 1.18879834e-02+2.72146007e-03j,  7.80178932e-03-6.15776924e-04j,\n",
              "         6.47388538e-03-2.62123067e-03j, ...,\n",
              "         1.14401031e-04+1.78767194e-04j,  7.11677931e-05+6.12346184e-06j,\n",
              "         5.85418929e-05-3.04178484e-05j],\n",
              "       [ 1.18898582e-02+2.70737801e-03j,  7.79680256e-03-6.48299116e-04j,\n",
              "         6.45120675e-03-2.67797732e-03j, ...,\n",
              "         8.84411420e-05+2.05215765e-04j,  2.61593505e-05+4.54672045e-05j,\n",
              "         3.28213573e-05-1.07409915e-05j],\n",
              "       ...,\n",
              "       [ 1.18312668e-02+2.92128022e-03j,  7.79286306e-03-4.62570693e-04j,\n",
              "         6.49371184e-03-2.46745604e-03j, ...,\n",
              "        -2.88780080e-04+6.20354549e-04j, -1.60705968e-04+4.39782249e-04j,\n",
              "        -2.81749060e-04+1.88989579e-04j],\n",
              "       [ 1.18578644e-02+2.81583518e-03j,  7.72592425e-03-5.37368702e-04j,\n",
              "         6.41509425e-03-2.53303885e-03j, ...,\n",
              "        -2.61673267e-04+5.59857930e-04j, -1.57315124e-04+4.31275228e-04j,\n",
              "        -2.68115895e-04+2.01735165e-04j],\n",
              "       [ 1.18619436e-02+2.70070601e-03j,  7.71981059e-03-6.18180435e-04j,\n",
              "         6.39959611e-03-2.61015049e-03j, ...,\n",
              "        -2.86945025e-04+5.86615701e-04j, -1.73680921e-04+4.20284894e-04j,\n",
              "        -2.72264675e-04+1.75785244e-04j]])"
            ]
          },
          "metadata": {},
          "execution_count": 14
        }
      ]
    },
    {
      "cell_type": "markdown",
      "source": [
        "# GET Dataset from P'Bossaaaaa"
      ],
      "metadata": {
        "id": "RTZ7gdNWhxVK"
      }
    },
    {
      "cell_type": "code",
      "source": [
        "#import ที่สำคัญ\n",
        "import pandas as pd\n",
        "import os\n",
        "import glob \n",
        "import shutil\n",
        "\n",
        "#read pandas\n",
        "annotation_df = pd.read_csv(\"/content/annotations.csv\")\n",
        "annotation_df\n",
        "\n",
        "#สร้าง folder\n",
        "os.makedirs(\"/content/dataset\")\n",
        "\n",
        "os.makedirs(\"/content/dataset/0\")\n",
        "os.makedirs(\"/content/dataset/1\")\n",
        "os.makedirs(\"/content/dataset/2\")\n",
        "os.makedirs(\"/content/dataset/3\")\n",
        "os.makedirs(\"/content/dataset/4\")\n",
        "os.makedirs(\"/content/dataset/5\")\n",
        "os.makedirs(\"/content/dataset/6\")\n",
        "\n",
        "#สร้าง class เป็น folder\n",
        "\n",
        "indir = \"/content/train/train/\"\n",
        "outdir = \"/content/dataset/\"\n",
        "\n",
        "for file_ in os.listdir(indir):\n",
        "    for i in range(len(annotation_df)):\n",
        "        \n",
        "        #print(file_.split(\".npy\")[0])\n",
        "\n",
        "        if file_.split(\".npy\")[0] == annotation_df['id'].iloc[i]:\n",
        "\n",
        "            #print(os.path.join(indir+file_))  \n",
        "            #print(os.path.join(outdir + str(annotation_df['class'].iloc[i])))\n",
        "\n",
        "            file_old = os.path.join(indir+file_)\n",
        "            file_new = os.path.join(outdir + str(annotation_df['class'].iloc[i]))\n",
        "            shutil.copy(file_old,file_new)\n",
        "        \n",
        "\n",
        "#เช็คจำนวนไฟล์ใน Folder\n",
        "print(\"0 =\",len(glob.glob(\"/content/dataset/0/*\")))\n",
        "print(\"1 =\",len(glob.glob(\"/content/dataset/1/*\")))\n",
        "print(\"2 =\",len(glob.glob(\"/content/dataset/2/*\")))\n",
        "print(\"3 =\",len(glob.glob(\"/content/dataset/3/*\")))\n",
        "print(\"4 =\",len(glob.glob(\"/content/dataset/4/*\")))\n",
        "print(\"5 =\",len(glob.glob(\"/content/dataset/5/*\")))\n",
        "print(\"6 =\",len(glob.glob(\"/content/dataset/6/*\")))\n",
        "print(\"sum = \",len(glob.glob(\"/content/dataset/*/*\")))"
      ],
      "metadata": {
        "colab": {
          "base_uri": "https://localhost:8080/"
        },
        "id": "2bbFxkszh0SQ",
        "outputId": "901203b0-90f1-424a-a4da-67c9c2131a35"
      },
      "execution_count": null,
      "outputs": [
        {
          "output_type": "stream",
          "name": "stdout",
          "text": [
            "0 = 50\n",
            "1 = 99\n",
            "2 = 43\n",
            "3 = 111\n",
            "4 = 116\n",
            "5 = 107\n",
            "6 = 121\n",
            "sum =  647\n"
          ]
        }
      ]
    },
    {
      "cell_type": "markdown",
      "source": [
        "# Sample Image Processing"
      ],
      "metadata": {
        "id": "Q4U6DYJ0hZGL"
      }
    },
    {
      "cell_type": "markdown",
      "source": [
        "## Process Signal"
      ],
      "metadata": {
        "id": "3Hy4hTIJiUL8"
      }
    },
    {
      "cell_type": "code",
      "source": [
        "import numpy as np \n",
        "file1 = Path('/content/dataset/0/075830c4-30ef-42fa-81e6-6441ac3a0316.npy')\n",
        "file2 = Path('/content/dataset/0/0d37b7f5-20f2-4010-b382-75b4944324e3.npy')\n",
        "file3 = Path('/content/dataset/0/0f1b99b2-7287-410d-9881-7abc672810a1.npy')\n",
        "sig1   = np.load(file1)\n",
        "sig2 = np.load(file2)\n",
        "sig3  = np.load(file3)\n",
        "print(sig1.shape)\n",
        "print(sig2.shape)\n",
        "print(sig3.shape)\n",
        "print(\"10 second of record with 256 FPS\")\n",
        "print(\"10 second x 256 frame per second =\"+str(60*256))"
      ],
      "metadata": {
        "colab": {
          "base_uri": "https://localhost:8080/"
        },
        "id": "fv8v-rYriJQo",
        "outputId": "219b17ed-e9ab-4645-ed20-30c47eb3f0a0"
      },
      "execution_count": null,
      "outputs": [
        {
          "output_type": "stream",
          "name": "stdout",
          "text": [
            "(2560, 56)\n",
            "(2560, 56)\n",
            "(2560, 56)\n",
            "10 second of record with 256 FPS\n",
            "10 second x 256 frame per second =15360\n"
          ]
        }
      ]
    },
    {
      "cell_type": "markdown",
      "source": [
        "GET I/Q"
      ],
      "metadata": {
        "id": "yDTzSRKNi6Ld"
      }
    },
    {
      "cell_type": "markdown",
      "source": [
        "GET Range_Time"
      ],
      "metadata": {
        "id": "G028g7TEi8JL"
      }
    },
    {
      "cell_type": "code",
      "source": [
        "#Range time data\n",
        "def range_time_ver2(IQ_data,step):\n",
        "  slidestep = step\n",
        "  n_rd_history = 255\n",
        "  frame = []\n",
        "  frames = []\n",
        "  slidestep_count = 0\n",
        "  check = 0\n",
        "  for iqini in IQ_data:\n",
        "    if len(frame)<n_rd_history:\n",
        "      frame.append(iqini)\n",
        "    else:\n",
        "      if check == 0 :\n",
        "        frame1 = np.array(frame)\n",
        "        frames.append(np.copy(frame1))\n",
        "        check = 1\n",
        "      if slidestep_count < slidestep:\n",
        "        frame. append(iqini)\n",
        "        slidestep_count = slidestep_count+1\n",
        "\n",
        "      if slidestep_count == slidestep:\n",
        "        frame = frame[slidestep_count::]\n",
        "        framel = np.array(frame)\n",
        "        frames .append(np.copy(frame1))\n",
        "        slidestep_count = 0\n",
        "  return np.stack(frames)\n"
      ],
      "metadata": {
        "id": "fS6abz72GBNP"
      },
      "execution_count": null,
      "outputs": []
    },
    {
      "cell_type": "code",
      "source": [
        "Range_ts_ver2   = range_time_ver2(sig1,12)\n",
        "Range_ts_ver2.shape"
      ],
      "metadata": {
        "colab": {
          "base_uri": "https://localhost:8080/"
        },
        "id": "fEPnWLHdzukn",
        "outputId": "9f41aa81-d488-42de-d216-c26503e49d37"
      },
      "execution_count": null,
      "outputs": [
        {
          "output_type": "execute_result",
          "data": {
            "text/plain": [
              "(193, 255, 56)"
            ]
          },
          "metadata": {},
          "execution_count": 18
        }
      ]
    },
    {
      "cell_type": "markdown",
      "source": [
        "GET FREQ_TIME"
      ],
      "metadata": {
        "id": "6px5EGRvi-8N"
      }
    },
    {
      "cell_type": "code",
      "source": [
        "import scipy.fftpack as fft\n",
        "def Range_frequency(datas):\n",
        "    Range_frequency_frame = []\n",
        "    for data in datas:\n",
        "        dB = True\n",
        "        # Range-Doppler\n",
        "        rd = fft.fft(data, axis=0)\n",
        "        rd = fft.fftshift(rd, axes=0)\n",
        "        rd = abs(rd)\n",
        "        DBrd = 20 * np.log10(rd+1e-10)\n",
        "        Range_frequency_frame.append(DBrd)\n",
        "    return np.stack(Range_frequency_frame)\n",
        "def IQdata(datas):\n",
        "    iq_vecs = []\n",
        "    for data in datas:\n",
        "        data_length = len(data)\n",
        "        i_vec = np.array(data[:data_length//2])\n",
        "        q_vec = np.array(data[data_length//2:])\n",
        "        iq_vec = i_vec + 1j*q_vec\n",
        "        iq_vecs.append(iq_vec)\n",
        "    return np.stack(iq_vecs)\n",
        "def range_time(IQ_data):\n",
        "    n_rd_history = 256\n",
        "    frame = []\n",
        "    frames = []\n",
        "\n",
        "    for iqini in IQ_data:\n",
        "        if len(frame)<n_rd_history:\n",
        "            frame.append(iqini)\n",
        "        else:  \n",
        "            frames.append(np.copy(frame))\n",
        "            frame.append(iqini)\n",
        "            frame = frame[1::]\n",
        "            \n",
        "    return np.stack(frames)"
      ],
      "metadata": {
        "id": "coGKv7f6HlMj"
      },
      "execution_count": null,
      "outputs": []
    },
    {
      "cell_type": "code",
      "source": [
        "def signal2spec(file_name):\n",
        "  sig = np.load(file_name)\n",
        "  print(sig.shape)\n",
        "\n",
        "\n",
        "  train  = range_time_ver2(sig,1)\n",
        "  train = Range_frequency(train)\n",
        "  print(train.shape)\n",
        "  try:\n",
        "    long_train=train.reshape(256*train.shape[0],56)\n",
        "  except:\n",
        "    long_train=train.reshape(train.shape[1]*train.shape[0],56)\n",
        "    # c+=[name]\n",
        "  fig = plt.figure(frameon=False)\n",
        "  ax = plt.Axes(fig, [0., 0., 1., 1.])\n",
        "  ax.set_axis_off()\n",
        "  fig.add_axes(ax)\n",
        "  ax.imshow(np.abs(long_train.T), aspect=\"auto\")\n",
        "  plt.show()\n",
        "\n",
        "  # plt.imshow(log_spectrum.T, origin='lower', aspect='auto', cmap='viridis')\n",
        "  # plt.xlabel('Time')\n",
        "  # plt.ylabel('Frequency')\n",
        "  # plt.colorbar()\n",
        "  # plt.show()\n",
        "\n",
        "\n",
        "\n",
        "sig = \"/content/dataset/2/2046d2e0-8084-42e0-90e9-ba2fc48fcff6.npy\"\n",
        "signal2spec(sig)"
      ],
      "metadata": {
        "id": "Ame-uEdmF_Pu",
        "colab": {
          "base_uri": "https://localhost:8080/",
          "height": 354
        },
        "outputId": "ce4010c6-fd83-4d40-dc98-511894a5de9c"
      },
      "execution_count": null,
      "outputs": [
        {
          "output_type": "stream",
          "name": "stdout",
          "text": [
            "(2560, 56)\n",
            "(2306, 255, 56)\n"
          ]
        },
        {
          "output_type": "display_data",
          "data": {
            "text/plain": [
              "<Figure size 432x288 with 1 Axes>"
            ],
            "image/png": "[encoded data removed]"
          },
          "metadata": {
            "needs_background": "light"
          }
        }
      ]
    },
    {
      "cell_type": "code",
      "source": [
        "sample_file = []\n",
        "for i in range(7):\n",
        "  sig = glob(f'/content/dataset/{i}/*.npy')[5]\n",
        "  signal2spec(sig)  "
      ],
      "metadata": {
        "colab": {
          "base_uri": "https://localhost:8080/",
          "height": 217
        },
        "id": "IwaYD1HlBc-P",
        "outputId": "45df09bb-b0e5-477a-bbd1-780e73e80edd"
      },
      "execution_count": null,
      "outputs": [
        {
          "output_type": "error",
          "ename": "TypeError",
          "evalue": "ignored",
          "traceback": [
            "\u001b[0;31m---------------------------------------------------------------------------\u001b[0m",
            "\u001b[0;31mTypeError\u001b[0m                                 Traceback (most recent call last)",
            "\u001b[0;32m<ipython-input-21-3b8c37b87c54>\u001b[0m in \u001b[0;36m<module>\u001b[0;34m\u001b[0m\n\u001b[1;32m      1\u001b[0m \u001b[0msample_file\u001b[0m \u001b[0;34m=\u001b[0m \u001b[0;34m[\u001b[0m\u001b[0;34m]\u001b[0m\u001b[0;34m\u001b[0m\u001b[0;34m\u001b[0m\u001b[0m\n\u001b[1;32m      2\u001b[0m \u001b[0;32mfor\u001b[0m \u001b[0mi\u001b[0m \u001b[0;32min\u001b[0m \u001b[0mrange\u001b[0m\u001b[0;34m(\u001b[0m\u001b[0;36m7\u001b[0m\u001b[0;34m)\u001b[0m\u001b[0;34m:\u001b[0m\u001b[0;34m\u001b[0m\u001b[0;34m\u001b[0m\u001b[0m\n\u001b[0;32m----> 3\u001b[0;31m   \u001b[0msig\u001b[0m \u001b[0;34m=\u001b[0m \u001b[0mglob\u001b[0m\u001b[0;34m(\u001b[0m\u001b[0;34mf'/content/dataset/{i}/*.npy'\u001b[0m\u001b[0;34m)\u001b[0m\u001b[0;34m[\u001b[0m\u001b[0;36m5\u001b[0m\u001b[0;34m]\u001b[0m\u001b[0;34m\u001b[0m\u001b[0;34m\u001b[0m\u001b[0m\n\u001b[0m\u001b[1;32m      4\u001b[0m   \u001b[0msignal2spec\u001b[0m\u001b[0;34m(\u001b[0m\u001b[0msig\u001b[0m\u001b[0;34m)\u001b[0m\u001b[0;34m\u001b[0m\u001b[0;34m\u001b[0m\u001b[0m\n",
            "\u001b[0;31mTypeError\u001b[0m: 'module' object is not callable"
          ]
        }
      ]
    },
    {
      "cell_type": "code",
      "source": [],
      "metadata": {
        "id": "GmRn1dZsIyTV"
      },
      "execution_count": null,
      "outputs": []
    },
    {
      "cell_type": "code",
      "source": [
        "def Pond_signal2spec(path):\n",
        "  # name=path.split('/')[-1]\n",
        "  # name=name.split('.')[0]\n",
        "  print(path)\n",
        "  train = np.load(path)\n",
        "  # label=annotations[annotations['id']==name]['class'].values[0]\n",
        "  train  = range_time(train)\n",
        "  train = Range_frequency(train)\n",
        "  try:\n",
        "    long_train=train.reshape(256*train.shape[0],56)\n",
        "  except:\n",
        "    long_train=train.reshape(255*train.shape[0],56)\n",
        "    # c+=[name]\n",
        "  fig = plt.figure(frameon=False)\n",
        "  ax = plt.Axes(fig, [0., 0., 1., 1.])\n",
        "  ax.set_axis_off()\n",
        "  fig.add_axes(ax)\n",
        "  ax.imshow(np.abs(long_train.T), aspect=\"auto\")\n",
        "  plt.show()\n",
        "\n",
        "sample_file = []\n",
        "for i in range(7):\n",
        "  sig = glob(f'/content/dataset/{i}/*.npy')[10]\n",
        "  Pond_signal2spec(sig)  "
      ],
      "metadata": {
        "id": "J6yyin9tBdNf"
      },
      "execution_count": null,
      "outputs": []
    },
    {
      "cell_type": "code",
      "source": [
        "from skimage import exposure\n",
        "\n",
        "sig = \"/content/dataset/2/2046d2e0-8084-42e0-90e9-ba2fc48fcff6.npy\"\n",
        "\n",
        "sig1   = np.load(sig)\n",
        "IQ_sig1   = sig1\n",
        "Range_time_sig1   = range_time(IQ_sig1)\n",
        "Range_frequency_sig1   = Range_frequency(Range_time_sig1)\n",
        "# print(Range_time_sig1.shape)\n",
        "# print(Range_frequency_sig1.shape)\n",
        "\n",
        "  \n",
        "range_freq_sample = np.asarray(Range_frequency_sig1,dtype=np.uint8)\n",
        "range_time_sample = np.asarray((Range_time_sig1*255),dtype=np.uint8)\n",
        "\n",
        "avg_range_freq_sample = np.std(range_freq_sample, axis=0)\n",
        "avg_range_time_sample = np.std(range_time_sample, axis=0)\n",
        "\n",
        "print(avg_range_freq_sample ,avg_range_time_sample)\n",
        "\n",
        "import matplotlib.pyplot as plt\n",
        "ax1 = plt.subplot(1,1,1)\n",
        "ax1.title.set_text('Range_freq_standing')\n",
        "im1 = ax1.imshow(np.abs(avg_range_freq_sample),aspect='auto')\n",
        "plt.show()\n",
        "\n",
        "ax2 = plt.subplot(1,1,1)\n",
        "ax2.title.set_text('Range_time_standing')\n",
        "im2 = ax2.imshow(np.abs(avg_range_time_sample),aspect='auto')\n",
        "\n",
        "plt.show()\n",
        "\n",
        "\n",
        "# apply equalize_hist()\n",
        "\n",
        "\n",
        "# Reshape the average frame to a 2D image\n",
        "image1 = np.reshape(avg_range_freq_sample, (255, 56))\n",
        "image2 = np.reshape(avg_range_time_sample, (255, 56))\n",
        "\n",
        "# Perform histogram equalization on the image\n",
        "equalized_image1 = exposure.equalize_hist(image1)\n",
        "equalized_image2 = exposure.equalize_hist(image2)\n",
        "\n",
        "ax1 = plt.subplot(1,1,1)\n",
        "ax1.title.set_text('Adjust1')\n",
        "im1 = ax1.imshow((equalized_image1),aspect='auto')\n",
        "plt.show()\n",
        "\n",
        "ax2 = plt.subplot(1,1,1)\n",
        "ax2.title.set_text('Adjust2')\n",
        "im2 = ax2.imshow((equalized_image2),aspect='auto')\n",
        "plt.show()\n",
        "\n",
        "\n",
        "from sklearn.preprocessing import normalize\n",
        "\n",
        "result = np.concatenate((normalize(equalized_image1),normalize(equalized_image2)),axis=0)\n",
        "ax1 = plt.subplot(1,1,1)\n",
        "ax1.title.set_text('Adjust1')\n",
        "im1 = ax1.imshow((result),aspect='auto')\n",
        "\n",
        "\n",
        "\n",
        "\n",
        "plt.show()"
      ],
      "metadata": {
        "id": "f5rt5GvghbMl"
      },
      "execution_count": null,
      "outputs": []
    },
    {
      "cell_type": "code",
      "source": [
        "def to_visual2(sig):\n",
        "  sig1   = np.load(sig)\n",
        "  IQ_sig1   = sig1[::20]\n",
        "  Range_time_sig1   = range_time(IQ_sig1)\n",
        "  Range_frequency_sig1   = Range_frequency(Range_time_sig1)\n",
        "  \n",
        "  range_freq_sample = np.asarray(Range_frequency_sig1,dtype=np.uint8)\n",
        "  range_time_sample = np.asarray((Range_time_sig1),dtype=np.uint8)\n",
        "\n",
        "  plt.figure(figsize=(10,6))\n",
        "\n",
        "\n",
        "  ax1 = plt.subplot(1,4,1)\n",
        "  ax1.title.set_text('Range_freq_standing')\n",
        "  im1 = ax1.imshow((range_freq_sample),aspect='auto')\n",
        " \n",
        "\n",
        "\n",
        "\n",
        "  plt.show()\n",
        "  \n"
      ],
      "metadata": {
        "id": "ySqh5rgMDd4K"
      },
      "execution_count": null,
      "outputs": []
    },
    {
      "cell_type": "code",
      "source": [
        "sample_file = []\n",
        "for i in [0,2]:\n",
        "  sig = glob(f'/content/dataset/{i}/*.npy')[0]\n",
        "  to_visual2(sig)  "
      ],
      "metadata": {
        "id": "uGX4v36GD0xw"
      },
      "execution_count": null,
      "outputs": []
    },
    {
      "cell_type": "code",
      "source": [
        "def to_visual(sig):\n",
        "  sig1   = np.load(sig)\n",
        "  IQ_sig1   = sig1\n",
        "  Range_time_sig1   = range_time(IQ_sig1)\n",
        "  Range_frequency_sig1   = Range_frequency(Range_time_sig1)\n",
        "  print(Range_time_sig1.shape)\n",
        "  print(Range_frequency_sig1.shape)\n",
        "\n",
        "  \n",
        "  range_freq_sample = np.asarray(Range_frequency_sig1,dtype=np.uint8)\n",
        "  range_time_sample = np.asarray((Range_time_sig1*255),dtype=np.uint8)\n",
        "\n",
        "  avg_range_freq_sample = np.mean(range_freq_sample, axis=0)\n",
        "  avg_range_time_sample = np.mean(range_time_sample, axis=0)\n",
        "\n",
        "  plt.figure(figsize=(10,6))\n",
        "\n",
        "\n",
        "  ax1 = plt.subplot(1,4,1)\n",
        "  ax1.title.set_text('Range_freq_standing')\n",
        "  im1 = ax1.imshow(np.abs(avg_range_freq_sample),aspect='auto')\n",
        "  # plt.show()\n",
        "\n",
        "  ax2 = plt.subplot(1,4,2)\n",
        "  ax2.title.set_text('Range_time_standing')\n",
        "  im2 = ax2.imshow(np.abs(avg_range_time_sample),aspect='auto')\n",
        "\n",
        "  # plt.show()\n",
        "\n",
        "\n",
        "  # apply equalize_hist()\n",
        "\n",
        "\n",
        "  # Reshape the average frame to a 2D image\n",
        "  image1 = np.reshape(avg_range_freq_sample, (255, 56))\n",
        "  image2 = np.reshape(avg_range_time_sample, (255, 56))\n",
        "\n",
        "  # Perform histogram equalization on the image\n",
        "  equalized_image1 = exposure.equalize_hist(image1)\n",
        "  equalized_image2 = exposure.equalize_hist(image2)\n",
        "\n",
        "  ax1 = plt.subplot(1,4,3)\n",
        "  ax1.title.set_text('Adjust1')\n",
        "  im1 = ax1.imshow((equalized_image1),aspect='auto')\n",
        "  # plt.show()\n",
        "\n",
        "  ax2 = plt.subplot(1,4,4)\n",
        "  ax2.title.set_text('Adjust2')\n",
        "  im2 = ax2.imshow((equalized_image2),aspect='auto')\n",
        "\n",
        "\n",
        "\n",
        "  plt.show()\n",
        "  \n"
      ],
      "metadata": {
        "id": "CFDwTpMokPOG"
      },
      "execution_count": null,
      "outputs": []
    },
    {
      "cell_type": "code",
      "source": [
        "# sample_file = [\"/content/dataset/0/314de89f-0a2b-4442-b222-3315a0dbebb9.npy\",\"/content/dataset/1/29585ec7-63b6-4973-bec0-17220ea67e58.npy\",\n",
        "#                \"/content/dataset/2/2046d2e0-8084-42e0-90e9-ba2fc48fcff6.npy\",\"/content/dataset/3/081ed365-6dfa-4fb9-971b-78d41a96d9c7.npy\",\n",
        "#                \"/content/dataset/4/03f1b031-3a28-4f3c-8abd-a6cc13c1f7e4.npy\",\"/content/dataset/5/06b49b00-4a45-45bd-bee4-e373ce4b2c97.npy\",\n",
        "#                \"/content/dataset/6/02ce5c80-0f5a-47fd-a6ea-f4b384020b12.npy\"]\n",
        "from glob import glob\n",
        "sample_file = []\n",
        "for i in [0,2]:\n",
        "  sig = glob(f'/content/dataset/{i}/*.npy')[0]\n",
        "  sample_file.append(sig)\n",
        "for sig in sample_file:\n",
        "  to_concat(sig)  "
      ],
      "metadata": {
        "id": "CRgWNdE-05Xd"
      },
      "execution_count": null,
      "outputs": []
    },
    {
      "cell_type": "code",
      "source": [
        "def to_concat(sig):\n",
        "  signals   = np.load(sig)\n",
        "  IQ_signals   = signals\n",
        "  # Range_time_signals   = range_time(IQ_signals)\n",
        "  # Range_frequency_signals   = Range_frequency(Range_time_signals)\n",
        "  # print(Range_time_sig1.shape)\n",
        "  # print(Range_frequency_sig1.shape)\n",
        "  print(IQ_signals.shape)\n",
        "  result = np.array(IQ_signals[0])\n",
        "  for signal in IQ_signals[1::24,:]:\n",
        "    print(signal.shape)\n",
        "    signal = np.array(signal)\n",
        "    signal = signal.reshape((1,-1))\n",
        "    result = np.stack((result,signal),axis = -1)\n",
        "\n",
        "  ax1 = plt.subplot(1,1,1)\n",
        "  ax1.title.set_text('Adjust1')\n",
        "  im1 = ax1.imshow((result),aspect='auto')\n",
        "  plt.show()\n",
        "  \n"
      ],
      "metadata": {
        "id": "QgrQc8cOzBXw"
      },
      "execution_count": null,
      "outputs": []
    },
    {
      "cell_type": "code",
      "source": [
        "# sample_file = [\"/content/dataset/0/314de89f-0a2b-4442-b222-3315a0dbebb9.npy\",\"/content/dataset/1/29585ec7-63b6-4973-bec0-17220ea67e58.npy\",\n",
        "#                \"/content/dataset/2/2046d2e0-8084-42e0-90e9-ba2fc48fcff6.npy\",\"/content/dataset/3/081ed365-6dfa-4fb9-971b-78d41a96d9c7.npy\",\n",
        "#                \"/content/dataset/4/03f1b031-3a28-4f3c-8abd-a6cc13c1f7e4.npy\",\"/content/dataset/5/06b49b00-4a45-45bd-bee4-e373ce4b2c97.npy\",\n",
        "#                \"/content/dataset/6/02ce5c80-0f5a-47fd-a6ea-f4b384020b12.npy\"]\n",
        "sample_file = []\n",
        "for i in range(6):\n",
        "  sig = glob(f'/content/dataset/{i}/*.npy')[10]\n",
        "  signals   = np.load(sig)\n",
        "  IQ_signals   = signals\n",
        "  # Range_time_signals   = range_time(IQ_signals)\n",
        "  # Range_frequency_signals   = Range_frequency(Range_time_signals)\n",
        "  # print(Range_time_sig1.shape)\n",
        "  # print(Range_frequency_sig1.shape)\n",
        "  # print(IQ_signals.shape)\n",
        "  result = np.array(IQ_signals[0]).reshape(1,-1)\n",
        "  for signal in IQ_signals[1::24,:]:\n",
        "    signal = np.array(signal)\n",
        "    signal = signal.reshape((1,-1))\n",
        "    # print(signal.shape)\n",
        "    result = np.concatenate((result,signal),axis = 0)\n",
        "    # print(result)\n",
        "\n",
        "  result = result *255\n",
        "  to_plot = result.astype(np.uint8)\n",
        "\n",
        "  ax1 = plt.subplot(1,1,1)\n",
        "  ax1.title.set_text('Adjust1')\n",
        "  im1 = ax1.imshow(to_plot,aspect='auto')\n",
        "  plt.show()"
      ],
      "metadata": {
        "id": "tCq9GmMYkwIz"
      },
      "execution_count": null,
      "outputs": []
    },
    {
      "cell_type": "code",
      "source": [
        "result = result *255\n",
        "to_plot = result.astype(np.uint8)\n",
        "\n",
        "ax1 = plt.subplot(1,1,1)\n",
        "ax1.title.set_text('Adjust1')\n",
        "im1 = ax1.imshow(to_plot,aspect='auto')\n",
        "plt.show()"
      ],
      "metadata": {
        "id": "IVUpqHgrlEYN"
      },
      "execution_count": null,
      "outputs": []
    },
    {
      "cell_type": "markdown",
      "source": [
        "# Transformer + CNN \n",
        "เอา pretained ของ transformer มารวมกับ ค่าสถิติจาก signal"
      ],
      "metadata": {
        "id": "5WvLOKVDUF5F"
      }
    },
    {
      "cell_type": "code",
      "source": [
        "import torch\n",
        "import torch.nn as nn\n",
        "import torch.nn.functional as F\n",
        "from torchvision.models import VisionTransformer\n",
        "\n",
        "class CustomModel(nn.Module):\n",
        "    def __init__(self, image_feature_dim, num_features, num_classes):\n",
        "        super(CustomModel, self).__init__()\n",
        "        \n",
        "        # Load the pre-trained VisionTransformer model\n",
        "        self.vit_model = VisionTransformer.from_pretrained('vit_base_patch16_224')\n",
        "        self.vit_model.eval()\n",
        "        \n",
        "        # Add a linear layer to reduce the dimensionality of the image features\n",
        "        self.fc_image = nn.Linear(in_features=image_feature_dim, out_features=128)\n",
        "        \n",
        "        # Add a linear layer to process the numerical features\n",
        "        self.fc_num = nn.Linear(in_features=num_features, out_features=64)\n",
        "        \n",
        "        # Add convolutional layers to process the combined features\n",
        "        self.conv1 = nn.Conv2d(in_channels=1, out_channels=32, kernel_size=3, stride=1)\n",
        "        self.conv2 = nn.Conv2d(in_channels=32, out_channels=64, kernel_size=3, stride=1)\n",
        "        self.conv3 = nn.Conv2d(in_channels=64, out_channels=128, kernel_size=3, stride=1)\n",
        "        \n",
        "        # Add linear layers to classify the combined features\n",
        "        self.fc_combined = nn.Linear(in_features=128 * 26 * 26, out_features=num_classes)\n",
        "        \n",
        "    def forward(self, image, num):\n",
        "        # Extract image features using the VisionTransformer model\n",
        "        with torch.no_grad():\n",
        "            image_features = self.vit_model(image)\n",
        "        \n",
        "        # Reduce the dimensionality of the image features using a linear layer\n",
        "        image_features = self.fc_image(image_features)\n",
        "        \n",
        "        # Process the numerical features using a linear layer\n",
        "        num_features = F.relu(self.fc_num(num))\n",
        "        \n",
        "        # Combine the image and numerical features\n",
        "        combined_features = torch.cat((image_features.unsqueeze(2), num_features.unsqueeze(2)), dim=2)\n",
        "        \n",
        "        # Pass the combined features through convolutional layers\n",
        "        x = F.relu(self.conv1(combined_features))\n",
        "        x = F.relu(self.conv2(x))\n",
        "        x = F.relu(self.conv3(x))\n",
        "        \n",
        "        # Flatten the output of the convolutional layers and pass it through a linear layer for classification\n",
        "        x = x.view(-1, 128 * 26 * 26)\n",
        "        x = self.fc_combined(x)\n",
        "        \n",
        "        return x"
      ],
      "metadata": {
        "id": "WsBXab3blENM"
      },
      "execution_count": null,
      "outputs": []
    },
    {
      "cell_type": "markdown",
      "source": [
        "# Get Max Vertical Change\n",
        "I will use just 1 and 4 class for the evaluation"
      ],
      "metadata": {
        "id": "CC5KQzzxrRJX"
      }
    },
    {
      "cell_type": "code",
      "source": [
        "# !mkdir datasetforMVC"
      ],
      "metadata": {
        "id": "NPseaP6wWYvi"
      },
      "execution_count": null,
      "outputs": []
    },
    {
      "cell_type": "code",
      "source": [
        "annotation_df = pd.read_csv(\"/content/annotations.csv\")\n",
        "annotation_df.info()"
      ],
      "metadata": {
        "colab": {
          "base_uri": "https://localhost:8080/"
        },
        "id": "FJv5h81KXIJ-",
        "outputId": "5d013705-4562-4132-d091-1b6a64cc6c39"
      },
      "execution_count": null,
      "outputs": [
        {
          "output_type": "stream",
          "name": "stdout",
          "text": [
            "<class 'pandas.core.frame.DataFrame'>\n",
            "RangeIndex: 647 entries, 0 to 646\n",
            "Data columns (total 2 columns):\n",
            " #   Column  Non-Null Count  Dtype \n",
            "---  ------  --------------  ----- \n",
            " 0   id      647 non-null    object\n",
            " 1   class   647 non-null    int64 \n",
            "dtypes: int64(1), object(1)\n",
            "memory usage: 10.2+ KB\n"
          ]
        }
      ]
    },
    {
      "cell_type": "markdown",
      "source": [
        "Create a small dataset for testing this experiment"
      ],
      "metadata": {
        "id": "Gst949CIYUo2"
      }
    },
    {
      "cell_type": "code",
      "source": [
        "#import ที่สำคัญ\n",
        "import pandas as pd\n",
        "import os\n",
        "import glob \n",
        "import shutil\n",
        "\n",
        "#read pandas\n",
        "annotation_df = pd.read_csv(\"/content/annotations.csv\")\n",
        "annotation_df\n",
        "\n",
        "#สร้าง folder\n",
        "!rm -r /content/datasetforMVC\n",
        "os.makedirs(\"/content/datasetforMVC\")\n",
        "os.makedirs(\"/content/datasetforMVC/1\")\n",
        "os.makedirs(\"/content/datasetforMVC/4\")\n",
        "\n",
        "\n",
        "#สร้าง class เป็น folder\n",
        "\n",
        "indir = \"/content/train/train/\"\n",
        "outdir = \"/content/datasetforMVC/\"\n",
        "\n",
        "for file_ in os.listdir(indir):\n",
        "    for i in range(len(annotation_df)):\n",
        "        \n",
        "        #print(file_.split(\".npy\")[0])\n",
        "\n",
        "        if file_.split(\".npy\")[0] == annotation_df['id'].iloc[i]:\n",
        "          if annotation_df['class'].iloc[i] == 1 or annotation_df['class'].iloc[i] == 4:\n",
        "            #print(os.path.join(indir+file_))  \n",
        "            #print(os.path.join(outdir + str(annotation_df['class'].iloc[i])))\n",
        "\n",
        "            file_old = os.path.join(indir+file_)\n",
        "            file_new = os.path.join(outdir + str(annotation_df['class'].iloc[i]))\n",
        "            shutil.copy(file_old,file_new)\n",
        "        \n",
        "\n",
        "#เช็คจำนวนไฟล์ใน Folder\n",
        "print(\"1 =\",len(glob.glob(\"/content/datasetforMVC/1/*\")))\n",
        "print(\"4 =\",len(glob.glob(\"/content/datasetforMVC/4/*\")))\n",
        "print(\"sum = \",len(glob.glob(\"/content/datasetforMVC/*/*\")))"
      ],
      "metadata": {
        "colab": {
          "base_uri": "https://localhost:8080/"
        },
        "id": "Inzo0RGWWiuu",
        "outputId": "44f7f335-8106-45f3-cb4f-8f5c32c5e7d7"
      },
      "execution_count": null,
      "outputs": [
        {
          "output_type": "stream",
          "name": "stdout",
          "text": [
            "1 = 99\n",
            "4 = 116\n",
            "sum =  215\n"
          ]
        }
      ]
    },
    {
      "cell_type": "code",
      "source": [
        "import numpy as np\n",
        "\n",
        "def get_stats(IQ_data):\n",
        "\n",
        "\n",
        "  real_data = IQ_data.real\n",
        "  imag_data = IQ_data.imag \n",
        "\n",
        "  mean_sub_x = np.array(IQ_data).mean(axis=0)\n",
        "  velo_data =  np.angle(mean_sub_x) # velocity\n",
        "  dist_data = np.abs(mean_sub_x) # distance\n",
        "\n",
        "\n",
        "  # Compute statistical features separately for real and imaginary parts\n",
        "  mean_real = np.mean(real_data, axis=0)\n",
        "  std_real = np.std(real_data, axis=0)\n",
        "  max_real = np.max(real_data, axis=0)\n",
        "  min_real = np.min(real_data, axis=0)\n",
        "\n",
        "  mean_imag = np.mean(imag_data, axis=0)\n",
        "  std_imag = np.std(imag_data, axis=0)\n",
        "  max_imag = np.max(imag_data, axis=0)\n",
        "  min_imag = np.min(imag_data, axis=0)\n",
        "\n",
        "\n",
        "  features =  np.concatenate((mean_real, std_real, max_real, min_real, mean_imag, std_imag, max_imag, min_imag,velo_data,dist_data))\n",
        "\n",
        "  return features"
      ],
      "metadata": {
        "id": "me1tX_26lDyn"
      },
      "execution_count": null,
      "outputs": []
    },
    {
      "cell_type": "code",
      "source": [
        "import numpy as np\n",
        "\n",
        "def get_stats2(data):\n",
        "  # Split the complex data into real and imaginary parts\n",
        "  data_real = np.real(data)\n",
        "  data_imag = np.imag(data)\n",
        "\n",
        "  # Compute mean, variance, and standard deviation for each dimension\n",
        "  mean_real = np.mean(data_real, axis=0)\n",
        "  variance_real = np.var(data_real, axis=0)\n",
        "  std_dev_real = np.std(data_real, axis=0)\n",
        "\n",
        "  mean_imag = np.mean(data_imag, axis=0)\n",
        "  variance_imag = np.var(data_imag, axis=0)\n",
        "  std_dev_imag = np.std(data_imag, axis=0)\n",
        "\n",
        "  # Compute skewness and kurtosis for each dimension\n",
        "  skewness_real = np.zeros((1, 56))\n",
        "  kurtosis_real = np.zeros((1, 56))\n",
        "  skewness_imag = np.zeros((1, 56))\n",
        "  kurtosis_imag = np.zeros((1, 56))\n",
        "\n",
        "  for i in range(56):\n",
        "      skewness_real[0, i] = np.mean(((data_real[:, i] - mean_real[i]) / std_dev_real[i]) ** 3)\n",
        "      kurtosis_real[0, i] = np.mean(((data_real[:, i] - mean_real[i]) / std_dev_real[i]) ** 4) - 3\n",
        "      skewness_imag[0, i] = np.mean(((data_imag[:, i] - mean_imag[i]) / std_dev_imag[i]) ** 3)\n",
        "      kurtosis_imag[0, i] = np.mean(((data_imag[:, i] - mean_imag[i]) / std_dev_imag[i]) ** 4) - 3\n",
        "\n",
        "  skewness_real = skewness_real.flatten()\n",
        "  kurtosis_real = kurtosis_real.flatten()\n",
        "  skewness_imag = skewness_imag.flatten()\n",
        "  kurtosis_imag = kurtosis_imag.flatten()\n",
        "  # Stack all features into a single numpy array\n",
        "  features =  np.concatenate((mean_real, variance_real, std_dev_real, skewness_real, kurtosis_real,\n",
        "                        mean_imag, variance_imag, std_dev_imag, skewness_imag, kurtosis_imag))\n",
        "  return features"
      ],
      "metadata": {
        "id": "D71zJn20s9V7"
      },
      "execution_count": null,
      "outputs": []
    },
    {
      "cell_type": "code",
      "source": [
        "iq_data_jump = np.load('/content/datasetforMVC/1/120e76dc-9ff4-4ff8-8485-54420bdbd0ac.npy')\n",
        "iq_data_down = np.load('/content/datasetforMVC/4/240f5a7d-524a-4011-aa12-f3e5574b646d.npy')\n",
        "\n",
        "\n",
        "\n",
        "s1 = get_stats(iq_data_jump)\n",
        "s2 = get_stats(iq_data_down)\n",
        "\n",
        "s1.shape\n",
        "# print(s2)"
      ],
      "metadata": {
        "colab": {
          "base_uri": "https://localhost:8080/"
        },
        "id": "zFUoO67arFH3",
        "outputId": "e8967f2f-f2ed-4fd4-f8f1-2ccd2452d930"
      },
      "execution_count": null,
      "outputs": [
        {
          "output_type": "execute_result",
          "data": {
            "text/plain": [
              "(280,)"
            ]
          },
          "metadata": {},
          "execution_count": 122
        }
      ]
    },
    {
      "cell_type": "code",
      "source": [
        "glob.glob('/content/datasetforMVC')"
      ],
      "metadata": {
        "id": "fajJMx1ZyurH"
      },
      "execution_count": null,
      "outputs": []
    },
    {
      "cell_type": "code",
      "source": [
        "num_class = [ x for x in range(7)]\n",
        "print(num_class)\n",
        "home_dir = \"/content/dataset/\"\n",
        "data = []\n",
        "for i in num_class :\n",
        "  for file_ in glob.glob(f'/content/dataset/{i}/*.npy'):\n",
        "    sig = np.load(file_)\n",
        "    stats = get_stats(sig)\n",
        "    label = [i]\n",
        "    temp_data = np.concatenate((stats,label))\n",
        "    print(temp_data.shape)\n",
        "    if temp_data.shape[0] > 10000:\n",
        "      continue\n",
        "    data.append(temp_data)\n",
        "    temp_data = 0\n"
      ],
      "metadata": {
        "colab": {
          "base_uri": "https://localhost:8080/"
        },
        "id": "t1Iwm29qxiKy",
        "outputId": "683d8daa-2596-4dcb-f308-4920af03bd9b"
      },
      "execution_count": null,
      "outputs": [
        {
          "output_type": "stream",
          "name": "stdout",
          "text": [
            "[0, 1, 2, 3, 4, 5, 6]\n",
            "(561,)\n",
            "(561,)\n",
            "(561,)\n",
            "(561,)\n",
            "(561,)\n",
            "(561,)\n",
            "(561,)\n",
            "(561,)\n",
            "(561,)\n",
            "(561,)\n",
            "(561,)\n",
            "(561,)\n",
            "(561,)\n",
            "(561,)\n",
            "(561,)\n",
            "(561,)\n",
            "(561,)\n",
            "(561,)\n",
            "(561,)\n",
            "(561,)\n",
            "(561,)\n",
            "(561,)\n",
            "(561,)\n",
            "(561,)\n",
            "(561,)\n",
            "(561,)\n",
            "(561,)\n",
            "(561,)\n",
            "(561,)\n",
            "(561,)\n",
            "(561,)\n",
            "(561,)\n",
            "(561,)\n",
            "(561,)\n",
            "(561,)\n",
            "(561,)\n",
            "(561,)\n",
            "(561,)\n",
            "(561,)\n",
            "(561,)\n",
            "(561,)\n",
            "(561,)\n",
            "(561,)\n",
            "(561,)\n",
            "(561,)\n",
            "(561,)\n",
            "(561,)\n",
            "(561,)\n",
            "(561,)\n",
            "(561,)\n",
            "(561,)\n",
            "(561,)\n",
            "(561,)\n",
            "(561,)\n",
            "(561,)\n",
            "(561,)\n",
            "(561,)\n",
            "(561,)\n",
            "(561,)\n",
            "(561,)\n",
            "(561,)\n",
            "(561,)\n",
            "(561,)\n",
            "(561,)\n",
            "(561,)\n",
            "(561,)\n",
            "(561,)\n",
            "(561,)\n",
            "(561,)\n",
            "(561,)\n",
            "(561,)\n",
            "(561,)\n",
            "(561,)\n",
            "(561,)\n",
            "(561,)\n",
            "(561,)\n",
            "(561,)\n",
            "(561,)\n",
            "(561,)\n",
            "(561,)\n",
            "(561,)\n",
            "(561,)\n",
            "(561,)\n",
            "(561,)\n",
            "(561,)\n",
            "(561,)\n",
            "(561,)\n",
            "(561,)\n",
            "(561,)\n",
            "(561,)\n",
            "(561,)\n",
            "(561,)\n",
            "(561,)\n",
            "(561,)\n",
            "(561,)\n",
            "(561,)\n",
            "(561,)\n",
            "(561,)\n",
            "(561,)\n",
            "(561,)\n",
            "(561,)\n",
            "(561,)\n",
            "(561,)\n",
            "(561,)\n",
            "(561,)\n",
            "(561,)\n",
            "(561,)\n",
            "(561,)\n",
            "(561,)\n",
            "(561,)\n",
            "(561,)\n",
            "(561,)\n",
            "(561,)\n",
            "(561,)\n",
            "(561,)\n",
            "(561,)\n",
            "(561,)\n",
            "(561,)\n",
            "(561,)\n",
            "(561,)\n",
            "(561,)\n",
            "(561,)\n",
            "(561,)\n",
            "(561,)\n",
            "(561,)\n",
            "(561,)\n",
            "(561,)\n",
            "(561,)\n",
            "(561,)\n",
            "(561,)\n",
            "(561,)\n",
            "(561,)\n",
            "(561,)\n",
            "(561,)\n",
            "(561,)\n",
            "(561,)\n",
            "(561,)\n",
            "(561,)\n",
            "(561,)\n",
            "(561,)\n",
            "(561,)\n",
            "(561,)\n",
            "(561,)\n",
            "(561,)\n",
            "(561,)\n",
            "(561,)\n",
            "(561,)\n",
            "(561,)\n",
            "(561,)\n",
            "(561,)\n",
            "(561,)\n",
            "(561,)\n",
            "(561,)\n",
            "(561,)\n",
            "(561,)\n",
            "(561,)\n",
            "(561,)\n",
            "(561,)\n",
            "(561,)\n",
            "(561,)\n",
            "(561,)\n",
            "(561,)\n",
            "(561,)\n",
            "(561,)\n",
            "(561,)\n",
            "(561,)\n",
            "(561,)\n",
            "(561,)\n",
            "(561,)\n",
            "(561,)\n",
            "(561,)\n",
            "(561,)\n",
            "(561,)\n",
            "(561,)\n",
            "(561,)\n",
            "(561,)\n",
            "(561,)\n",
            "(561,)\n",
            "(561,)\n",
            "(561,)\n",
            "(561,)\n",
            "(561,)\n",
            "(561,)\n",
            "(561,)\n",
            "(561,)\n",
            "(561,)\n",
            "(561,)\n",
            "(561,)\n",
            "(561,)\n",
            "(561,)\n",
            "(561,)\n",
            "(561,)\n",
            "(561,)\n",
            "(561,)\n",
            "(561,)\n",
            "(561,)\n",
            "(561,)\n",
            "(561,)\n",
            "(561,)\n",
            "(561,)\n",
            "(561,)\n",
            "(561,)\n",
            "(561,)\n",
            "(561,)\n",
            "(561,)\n",
            "(561,)\n",
            "(561,)\n",
            "(561,)\n",
            "(561,)\n",
            "(561,)\n",
            "(561,)\n",
            "(561,)\n",
            "(561,)\n",
            "(561,)\n",
            "(561,)\n",
            "(561,)\n",
            "(561,)\n",
            "(561,)\n",
            "(561,)\n",
            "(561,)\n",
            "(561,)\n",
            "(561,)\n",
            "(561,)\n",
            "(561,)\n",
            "(561,)\n",
            "(561,)\n",
            "(561,)\n",
            "(561,)\n",
            "(561,)\n",
            "(561,)\n",
            "(561,)\n",
            "(561,)\n",
            "(561,)\n",
            "(561,)\n",
            "(561,)\n",
            "(561,)\n",
            "(561,)\n",
            "(561,)\n",
            "(561,)\n",
            "(561,)\n",
            "(561,)\n",
            "(561,)\n",
            "(561,)\n",
            "(561,)\n",
            "(561,)\n",
            "(561,)\n",
            "(561,)\n",
            "(561,)\n",
            "(561,)\n",
            "(561,)\n",
            "(561,)\n",
            "(561,)\n",
            "(561,)\n",
            "(561,)\n",
            "(561,)\n",
            "(561,)\n",
            "(561,)\n",
            "(561,)\n",
            "(561,)\n",
            "(561,)\n",
            "(561,)\n",
            "(561,)\n",
            "(561,)\n",
            "(561,)\n",
            "(561,)\n",
            "(561,)\n",
            "(561,)\n",
            "(561,)\n",
            "(561,)\n",
            "(561,)\n",
            "(561,)\n",
            "(561,)\n",
            "(561,)\n",
            "(561,)\n",
            "(561,)\n",
            "(561,)\n",
            "(561,)\n",
            "(561,)\n",
            "(561,)\n",
            "(561,)\n",
            "(561,)\n",
            "(561,)\n",
            "(561,)\n",
            "(561,)\n",
            "(561,)\n",
            "(561,)\n",
            "(561,)\n",
            "(561,)\n",
            "(561,)\n",
            "(561,)\n",
            "(561,)\n",
            "(561,)\n",
            "(561,)\n",
            "(561,)\n",
            "(561,)\n",
            "(561,)\n",
            "(561,)\n",
            "(561,)\n",
            "(561,)\n",
            "(561,)\n",
            "(561,)\n",
            "(561,)\n",
            "(561,)\n",
            "(561,)\n",
            "(561,)\n",
            "(561,)\n",
            "(561,)\n",
            "(561,)\n",
            "(561,)\n",
            "(561,)\n",
            "(561,)\n",
            "(561,)\n",
            "(561,)\n",
            "(561,)\n",
            "(561,)\n",
            "(561,)\n",
            "(561,)\n",
            "(561,)\n",
            "(561,)\n",
            "(561,)\n",
            "(561,)\n",
            "(561,)\n",
            "(561,)\n",
            "(561,)\n",
            "(561,)\n",
            "(561,)\n",
            "(561,)\n",
            "(561,)\n",
            "(561,)\n",
            "(561,)\n",
            "(561,)\n",
            "(561,)\n",
            "(561,)\n",
            "(561,)\n",
            "(561,)\n",
            "(561,)\n",
            "(561,)\n",
            "(561,)\n",
            "(561,)\n",
            "(561,)\n",
            "(561,)\n",
            "(561,)\n",
            "(561,)\n",
            "(561,)\n",
            "(561,)\n",
            "(561,)\n",
            "(561,)\n",
            "(561,)\n",
            "(561,)\n",
            "(561,)\n",
            "(561,)\n",
            "(561,)\n",
            "(561,)\n",
            "(561,)\n",
            "(561,)\n",
            "(561,)\n",
            "(561,)\n",
            "(561,)\n",
            "(561,)\n",
            "(561,)\n",
            "(561,)\n",
            "(561,)\n",
            "(561,)\n",
            "(561,)\n",
            "(561,)\n",
            "(561,)\n",
            "(561,)\n",
            "(561,)\n",
            "(561,)\n",
            "(561,)\n",
            "(561,)\n",
            "(561,)\n",
            "(561,)\n",
            "(561,)\n",
            "(561,)\n",
            "(561,)\n",
            "(561,)\n",
            "(561,)\n",
            "(561,)\n",
            "(561,)\n",
            "(561,)\n",
            "(561,)\n",
            "(561,)\n",
            "(561,)\n",
            "(561,)\n",
            "(561,)\n",
            "(561,)\n",
            "(561,)\n",
            "(561,)\n",
            "(561,)\n",
            "(561,)\n",
            "(561,)\n",
            "(561,)\n",
            "(561,)\n",
            "(561,)\n",
            "(561,)\n",
            "(561,)\n",
            "(561,)\n",
            "(561,)\n",
            "(561,)\n",
            "(561,)\n",
            "(561,)\n",
            "(561,)\n",
            "(561,)\n",
            "(561,)\n",
            "(561,)\n",
            "(561,)\n",
            "(561,)\n",
            "(561,)\n",
            "(561,)\n",
            "(561,)\n",
            "(561,)\n",
            "(561,)\n",
            "(561,)\n",
            "(561,)\n",
            "(561,)\n",
            "(561,)\n",
            "(561,)\n",
            "(561,)\n",
            "(561,)\n",
            "(561,)\n",
            "(561,)\n",
            "(561,)\n",
            "(561,)\n",
            "(561,)\n",
            "(561,)\n",
            "(561,)\n",
            "(561,)\n",
            "(561,)\n",
            "(561,)\n",
            "(561,)\n",
            "(561,)\n",
            "(561,)\n",
            "(561,)\n",
            "(561,)\n",
            "(561,)\n",
            "(561,)\n",
            "(561,)\n",
            "(561,)\n",
            "(561,)\n",
            "(561,)\n",
            "(561,)\n",
            "(561,)\n",
            "(561,)\n",
            "(561,)\n",
            "(561,)\n",
            "(561,)\n",
            "(561,)\n",
            "(561,)\n",
            "(561,)\n",
            "(561,)\n",
            "(561,)\n",
            "(561,)\n",
            "(561,)\n",
            "(561,)\n",
            "(561,)\n",
            "(561,)\n",
            "(561,)\n",
            "(561,)\n",
            "(561,)\n",
            "(561,)\n",
            "(561,)\n",
            "(561,)\n",
            "(561,)\n",
            "(561,)\n",
            "(561,)\n",
            "(561,)\n",
            "(561,)\n",
            "(561,)\n",
            "(561,)\n",
            "(561,)\n",
            "(561,)\n",
            "(561,)\n",
            "(561,)\n",
            "(561,)\n",
            "(561,)\n",
            "(561,)\n",
            "(561,)\n",
            "(561,)\n",
            "(561,)\n",
            "(561,)\n",
            "(561,)\n",
            "(561,)\n",
            "(561,)\n",
            "(561,)\n",
            "(561,)\n",
            "(561,)\n",
            "(561,)\n",
            "(561,)\n",
            "(561,)\n",
            "(561,)\n",
            "(561,)\n",
            "(561,)\n",
            "(561,)\n",
            "(561,)\n",
            "(561,)\n",
            "(561,)\n",
            "(561,)\n",
            "(561,)\n",
            "(561,)\n",
            "(561,)\n",
            "(561,)\n",
            "(561,)\n",
            "(561,)\n",
            "(561,)\n",
            "(561,)\n",
            "(561,)\n",
            "(561,)\n",
            "(561,)\n",
            "(561,)\n",
            "(561,)\n",
            "(561,)\n",
            "(561,)\n",
            "(561,)\n",
            "(561,)\n",
            "(561,)\n",
            "(561,)\n",
            "(561,)\n",
            "(561,)\n",
            "(561,)\n",
            "(561,)\n",
            "(561,)\n",
            "(561,)\n",
            "(561,)\n",
            "(561,)\n",
            "(561,)\n",
            "(561,)\n",
            "(561,)\n",
            "(561,)\n",
            "(561,)\n",
            "(561,)\n",
            "(561,)\n",
            "(561,)\n",
            "(561,)\n",
            "(561,)\n",
            "(561,)\n",
            "(561,)\n",
            "(561,)\n",
            "(561,)\n",
            "(561,)\n",
            "(561,)\n",
            "(561,)\n",
            "(561,)\n",
            "(561,)\n",
            "(561,)\n",
            "(561,)\n",
            "(561,)\n",
            "(561,)\n",
            "(561,)\n",
            "(561,)\n",
            "(561,)\n",
            "(561,)\n",
            "(561,)\n",
            "(561,)\n",
            "(561,)\n",
            "(561,)\n",
            "(561,)\n",
            "(561,)\n",
            "(561,)\n",
            "(561,)\n",
            "(561,)\n",
            "(561,)\n",
            "(561,)\n",
            "(561,)\n",
            "(561,)\n",
            "(561,)\n",
            "(561,)\n",
            "(561,)\n",
            "(561,)\n",
            "(561,)\n",
            "(561,)\n",
            "(561,)\n",
            "(561,)\n",
            "(561,)\n",
            "(561,)\n",
            "(561,)\n",
            "(561,)\n",
            "(561,)\n",
            "(561,)\n",
            "(561,)\n",
            "(561,)\n",
            "(561,)\n",
            "(561,)\n",
            "(561,)\n",
            "(561,)\n",
            "(561,)\n",
            "(561,)\n",
            "(561,)\n",
            "(561,)\n",
            "(561,)\n",
            "(561,)\n",
            "(561,)\n",
            "(561,)\n",
            "(561,)\n",
            "(561,)\n",
            "(561,)\n",
            "(561,)\n",
            "(561,)\n",
            "(561,)\n",
            "(561,)\n",
            "(561,)\n",
            "(561,)\n",
            "(561,)\n",
            "(561,)\n",
            "(561,)\n",
            "(561,)\n",
            "(561,)\n",
            "(561,)\n",
            "(561,)\n",
            "(561,)\n",
            "(561,)\n",
            "(561,)\n",
            "(561,)\n",
            "(561,)\n",
            "(561,)\n",
            "(561,)\n",
            "(561,)\n",
            "(561,)\n",
            "(561,)\n",
            "(561,)\n",
            "(561,)\n",
            "(561,)\n",
            "(561,)\n",
            "(561,)\n",
            "(561,)\n",
            "(561,)\n",
            "(561,)\n",
            "(561,)\n",
            "(561,)\n",
            "(561,)\n",
            "(561,)\n",
            "(561,)\n",
            "(561,)\n",
            "(561,)\n",
            "(561,)\n",
            "(561,)\n",
            "(561,)\n",
            "(561,)\n",
            "(561,)\n",
            "(561,)\n",
            "(561,)\n",
            "(561,)\n",
            "(561,)\n",
            "(561,)\n",
            "(561,)\n",
            "(561,)\n",
            "(561,)\n"
          ]
        }
      ]
    },
    {
      "cell_type": "code",
      "source": [
        "len(data)"
      ],
      "metadata": {
        "colab": {
          "base_uri": "https://localhost:8080/"
        },
        "id": "HBwzjBjsaJl5",
        "outputId": "0abeb14a-7848-4b7b-c5ed-65b8221f95ff"
      },
      "execution_count": null,
      "outputs": [
        {
          "output_type": "execute_result",
          "data": {
            "text/plain": [
              "647"
            ]
          },
          "metadata": {},
          "execution_count": 373
        }
      ]
    },
    {
      "cell_type": "code",
      "source": [
        "all_features = np.array(data)\n",
        "all_features.shape"
      ],
      "metadata": {
        "colab": {
          "base_uri": "https://localhost:8080/"
        },
        "id": "UMSSLke3zj39",
        "outputId": "34285dad-1dd3-4415-b733-e4ad5dd7881e"
      },
      "execution_count": null,
      "outputs": [
        {
          "output_type": "execute_result",
          "data": {
            "text/plain": [
              "(647, 561)"
            ]
          },
          "metadata": {},
          "execution_count": 374
        }
      ]
    },
    {
      "cell_type": "markdown",
      "source": [
        "## EASY TABULAR"
      ],
      "metadata": {
        "id": "_z7sIIsM_PJh"
      }
    },
    {
      "cell_type": "code",
      "source": [
        "# !pip install autogluon"
      ],
      "metadata": {
        "id": "_-YnTF-6ycDW"
      },
      "execution_count": null,
      "outputs": []
    },
    {
      "cell_type": "code",
      "source": [
        "f'{df.shape[-1]}'"
      ],
      "metadata": {
        "id": "GDgsPEBuqlUj",
        "colab": {
          "base_uri": "https://localhost:8080/",
          "height": 35
        },
        "outputId": "72b901a3-a3f3-4acc-ab7f-6ba4b5bddb42"
      },
      "execution_count": null,
      "outputs": [
        {
          "output_type": "execute_result",
          "data": {
            "text/plain": [
              "'5569'"
            ],
            "application/vnd.google.colaboratory.intrinsic+json": {
              "type": "string"
            }
          },
          "metadata": {},
          "execution_count": 375
        }
      ]
    },
    {
      "cell_type": "code",
      "source": [
        "# to_tabular = all_feature_arr\n",
        "# df = to_tabular.mean(axis =1)\n",
        "# df = pd.DataFrame(df)\n",
        "# df['class'] = y_arr\n",
        "\n",
        "df = pd.DataFrame(all_features)\n",
        "df.columns = [ str(x) for x in range(df.shape[-1])]\n",
        "df.shape\n",
        "x   = df.drop([ f'{df.shape[-1]-1}' ],axis=1)\n",
        "y   =  np.real(df[f'{df.shape[-1]-1}'])\n"
      ],
      "metadata": {
        "id": "XBuT0c0ryiD6"
      },
      "execution_count": null,
      "outputs": []
    },
    {
      "cell_type": "code",
      "source": [
        "from sklearn.model_selection import train_test_split\n",
        "X_train, X_val, y_train, y_val = train_test_split(x,y , test_size=0.1, random_state=42,shuffle = True)\n"
      ],
      "metadata": {
        "id": "WuOo2-YJ1bng"
      },
      "execution_count": null,
      "outputs": []
    },
    {
      "cell_type": "code",
      "source": [
        "print(f'X_train :{X_train.shape}')\n",
        "print(f'y_train :{y_train.shape}')\n",
        "print(f'X_val :{X_val.shape}')\n",
        "print(f'y_val :{y_val.shape}')\n",
        "print(f'example y train : {y_train[:20]}')"
      ],
      "metadata": {
        "colab": {
          "base_uri": "https://localhost:8080/"
        },
        "id": "ls2EwnTG1ySN",
        "outputId": "8c18a0b2-b5b8-47b9-9da1-42957492e1bf"
      },
      "execution_count": null,
      "outputs": [
        {
          "output_type": "stream",
          "name": "stdout",
          "text": [
            "X_train :(582, 560)\n",
            "y_train :(582,)\n",
            "X_val :(65, 560)\n",
            "y_val :(65,)\n",
            "example y train : [3. 4. 6. 2. 6. 1. 4. 0. 6. 3. 0. 3. 4. 0. 6. 4. 6. 5. 6. 4.]\n"
          ]
        }
      ]
    },
    {
      "cell_type": "code",
      "source": [
        "type(X_train)"
      ],
      "metadata": {
        "colab": {
          "base_uri": "https://localhost:8080/"
        },
        "id": "U_w_T1Hm2E2y",
        "outputId": "db91863f-dfda-4f69-8485-120a72ceeb58"
      },
      "execution_count": null,
      "outputs": [
        {
          "output_type": "execute_result",
          "data": {
            "text/plain": [
              "pandas.core.frame.DataFrame"
            ]
          },
          "metadata": {},
          "execution_count": 380
        }
      ]
    },
    {
      "cell_type": "code",
      "source": [
        "train_df = X_train\n",
        "train_df['class'] = y_train\n",
        "train_df.shape"
      ],
      "metadata": {
        "colab": {
          "base_uri": "https://localhost:8080/"
        },
        "id": "Gph5pk9A12FU",
        "outputId": "bb7a0d1b-4f3f-4ab8-958e-379e2f0ad5e9"
      },
      "execution_count": null,
      "outputs": [
        {
          "output_type": "execute_result",
          "data": {
            "text/plain": [
              "(582, 561)"
            ]
          },
          "metadata": {},
          "execution_count": 381
        }
      ]
    },
    {
      "cell_type": "code",
      "source": [
        "train_df.head()"
      ],
      "metadata": {
        "colab": {
          "base_uri": "https://localhost:8080/",
          "height": 300
        },
        "id": "gjKY2FGr31IZ",
        "outputId": "b6bd5668-4235-46fc-98fd-c28fbc428a75"
      },
      "execution_count": null,
      "outputs": [
        {
          "output_type": "execute_result",
          "data": {
            "text/plain": [
              "            0         1         2         3         4         5         6  \\\n",
              "296  0.011719  0.007670  0.006351  0.004836  0.001561 -0.002414 -0.003773   \n",
              "349  0.011758  0.007558  0.006250  0.004561  0.001082 -0.002769 -0.003818   \n",
              "284  0.011739  0.007672  0.006336  0.004796  0.001492 -0.002472 -0.003792   \n",
              "211  0.011746  0.007620  0.006230  0.004651  0.001336 -0.002586 -0.003826   \n",
              "537  0.011742  0.007659  0.006303  0.004763  0.001469 -0.002481 -0.003791   \n",
              "\n",
              "            7         8         9  ...      5559      5560      5561  \\\n",
              "296 -0.002990 -0.001376 -0.000254  ...  0.000484  0.000509  0.000505   \n",
              "349 -0.002755 -0.001047  0.000023  ...  0.000477  0.000468  0.000459   \n",
              "284 -0.002977 -0.001346 -0.000222  ...  0.000429  0.000426  0.000425   \n",
              "211 -0.002950 -0.001301 -0.000201  ...  0.000395  0.000339  0.000338   \n",
              "537 -0.002976 -0.001352 -0.000245  ...  0.000224  0.000332  0.000407   \n",
              "\n",
              "         5562      5563      5564      5565      5566      5567  class  \n",
              "296  0.000488  0.000483  0.000451  0.000429  0.000399  0.000372    3.0  \n",
              "349  0.000441  0.000438  0.000420  0.000409  0.000400  0.000375    4.0  \n",
              "284  0.000387  0.000376  0.000373  0.000397  0.000434  0.000443    3.0  \n",
              "211  0.000392  0.000408  0.000438  0.000421  0.000405  0.000419    3.0  \n",
              "537  0.000410  0.000326  0.000209  0.000249  0.000364  0.000440    6.0  \n",
              "\n",
              "[5 rows x 5569 columns]"
            ],
            "text/html": [
              "\n",
              "  <div id=\"df-d7ab12ac-908e-416a-b744-e47029183076\">\n",
              "    <div class=\"colab-df-container\">\n",
              "      <div>\n",
              "<style scoped>\n",
              "    .dataframe tbody tr th:only-of-type {\n",
              "        vertical-align: middle;\n",
              "    }\n",
              "\n",
              "    .dataframe tbody tr th {\n",
              "        vertical-align: top;\n",
              "    }\n",
              "\n",
              "    .dataframe thead th {\n",
              "        text-align: right;\n",
              "    }\n",
              "</style>\n",
              "<table border=\"1\" class=\"dataframe\">\n",
              "  <thead>\n",
              "    <tr style=\"text-align: right;\">\n",
              "      <th></th>\n",
              "      <th>0</th>\n",
              "      <th>1</th>\n",
              "      <th>2</th>\n",
              "      <th>3</th>\n",
              "      <th>4</th>\n",
              "      <th>5</th>\n",
              "      <th>6</th>\n",
              "      <th>7</th>\n",
              "      <th>8</th>\n",
              "      <th>9</th>\n",
              "      <th>...</th>\n",
              "      <th>5559</th>\n",
              "      <th>5560</th>\n",
              "      <th>5561</th>\n",
              "      <th>5562</th>\n",
              "      <th>5563</th>\n",
              "      <th>5564</th>\n",
              "      <th>5565</th>\n",
              "      <th>5566</th>\n",
              "      <th>5567</th>\n",
              "      <th>class</th>\n",
              "    </tr>\n",
              "  </thead>\n",
              "  <tbody>\n",
              "    <tr>\n",
              "      <th>296</th>\n",
              "      <td>0.011719</td>\n",
              "      <td>0.007670</td>\n",
              "      <td>0.006351</td>\n",
              "      <td>0.004836</td>\n",
              "      <td>0.001561</td>\n",
              "      <td>-0.002414</td>\n",
              "      <td>-0.003773</td>\n",
              "      <td>-0.002990</td>\n",
              "      <td>-0.001376</td>\n",
              "      <td>-0.000254</td>\n",
              "      <td>...</td>\n",
              "      <td>0.000484</td>\n",
              "      <td>0.000509</td>\n",
              "      <td>0.000505</td>\n",
              "      <td>0.000488</td>\n",
              "      <td>0.000483</td>\n",
              "      <td>0.000451</td>\n",
              "      <td>0.000429</td>\n",
              "      <td>0.000399</td>\n",
              "      <td>0.000372</td>\n",
              "      <td>3.0</td>\n",
              "    </tr>\n",
              "    <tr>\n",
              "      <th>349</th>\n",
              "      <td>0.011758</td>\n",
              "      <td>0.007558</td>\n",
              "      <td>0.006250</td>\n",
              "      <td>0.004561</td>\n",
              "      <td>0.001082</td>\n",
              "      <td>-0.002769</td>\n",
              "      <td>-0.003818</td>\n",
              "      <td>-0.002755</td>\n",
              "      <td>-0.001047</td>\n",
              "      <td>0.000023</td>\n",
              "      <td>...</td>\n",
              "      <td>0.000477</td>\n",
              "      <td>0.000468</td>\n",
              "      <td>0.000459</td>\n",
              "      <td>0.000441</td>\n",
              "      <td>0.000438</td>\n",
              "      <td>0.000420</td>\n",
              "      <td>0.000409</td>\n",
              "      <td>0.000400</td>\n",
              "      <td>0.000375</td>\n",
              "      <td>4.0</td>\n",
              "    </tr>\n",
              "    <tr>\n",
              "      <th>284</th>\n",
              "      <td>0.011739</td>\n",
              "      <td>0.007672</td>\n",
              "      <td>0.006336</td>\n",
              "      <td>0.004796</td>\n",
              "      <td>0.001492</td>\n",
              "      <td>-0.002472</td>\n",
              "      <td>-0.003792</td>\n",
              "      <td>-0.002977</td>\n",
              "      <td>-0.001346</td>\n",
              "      <td>-0.000222</td>\n",
              "      <td>...</td>\n",
              "      <td>0.000429</td>\n",
              "      <td>0.000426</td>\n",
              "      <td>0.000425</td>\n",
              "      <td>0.000387</td>\n",
              "      <td>0.000376</td>\n",
              "      <td>0.000373</td>\n",
              "      <td>0.000397</td>\n",
              "      <td>0.000434</td>\n",
              "      <td>0.000443</td>\n",
              "      <td>3.0</td>\n",
              "    </tr>\n",
              "    <tr>\n",
              "      <th>211</th>\n",
              "      <td>0.011746</td>\n",
              "      <td>0.007620</td>\n",
              "      <td>0.006230</td>\n",
              "      <td>0.004651</td>\n",
              "      <td>0.001336</td>\n",
              "      <td>-0.002586</td>\n",
              "      <td>-0.003826</td>\n",
              "      <td>-0.002950</td>\n",
              "      <td>-0.001301</td>\n",
              "      <td>-0.000201</td>\n",
              "      <td>...</td>\n",
              "      <td>0.000395</td>\n",
              "      <td>0.000339</td>\n",
              "      <td>0.000338</td>\n",
              "      <td>0.000392</td>\n",
              "      <td>0.000408</td>\n",
              "      <td>0.000438</td>\n",
              "      <td>0.000421</td>\n",
              "      <td>0.000405</td>\n",
              "      <td>0.000419</td>\n",
              "      <td>3.0</td>\n",
              "    </tr>\n",
              "    <tr>\n",
              "      <th>537</th>\n",
              "      <td>0.011742</td>\n",
              "      <td>0.007659</td>\n",
              "      <td>0.006303</td>\n",
              "      <td>0.004763</td>\n",
              "      <td>0.001469</td>\n",
              "      <td>-0.002481</td>\n",
              "      <td>-0.003791</td>\n",
              "      <td>-0.002976</td>\n",
              "      <td>-0.001352</td>\n",
              "      <td>-0.000245</td>\n",
              "      <td>...</td>\n",
              "      <td>0.000224</td>\n",
              "      <td>0.000332</td>\n",
              "      <td>0.000407</td>\n",
              "      <td>0.000410</td>\n",
              "      <td>0.000326</td>\n",
              "      <td>0.000209</td>\n",
              "      <td>0.000249</td>\n",
              "      <td>0.000364</td>\n",
              "      <td>0.000440</td>\n",
              "      <td>6.0</td>\n",
              "    </tr>\n",
              "  </tbody>\n",
              "</table>\n",
              "<p>5 rows × 5569 columns</p>\n",
              "</div>\n",
              "      <button class=\"colab-df-convert\" onclick=\"convertToInteractive('df-d7ab12ac-908e-416a-b744-e47029183076')\"\n",
              "              title=\"Convert this dataframe to an interactive table.\"\n",
              "              style=\"display:none;\">\n",
              "        \n",
              "  <svg xmlns=\"http://www.w3.org/2000/svg\" height=\"24px\"viewBox=\"0 0 24 24\"\n",
              "       width=\"24px\">\n",
              "    <path d=\"M0 0h24v24H0V0z\" fill=\"none\"/>\n",
              "    <path d=\"M18.56 5.44l.94 2.06.94-2.06 2.06-.94-2.06-.94-.94-2.06-.94 2.06-2.06.94zm-11 1L8.5 8.5l.94-2.06 2.06-.94-2.06-.94L8.5 2.5l-.94 2.06-2.06.94zm10 10l.94 2.06.94-2.06 2.06-.94-2.06-.94-.94-2.06-.94 2.06-2.06.94z\"/><path d=\"M17.41 7.96l-1.37-1.37c-.4-.4-.92-.59-1.43-.59-.52 0-1.04.2-1.43.59L10.3 9.45l-7.72 7.72c-.78.78-.78 2.05 0 2.83L4 21.41c.39.39.9.59 1.41.59.51 0 1.02-.2 1.41-.59l7.78-7.78 2.81-2.81c.8-.78.8-2.07 0-2.86zM5.41 20L4 18.59l7.72-7.72 1.47 1.35L5.41 20z\"/>\n",
              "  </svg>\n",
              "      </button>\n",
              "      \n",
              "  <style>\n",
              "    .colab-df-container {\n",
              "      display:flex;\n",
              "      flex-wrap:wrap;\n",
              "      gap: 12px;\n",
              "    }\n",
              "\n",
              "    .colab-df-convert {\n",
              "      background-color: #E8F0FE;\n",
              "      border: none;\n",
              "      border-radius: 50%;\n",
              "      cursor: pointer;\n",
              "      display: none;\n",
              "      fill: #1967D2;\n",
              "      height: 32px;\n",
              "      padding: 0 0 0 0;\n",
              "      width: 32px;\n",
              "    }\n",
              "\n",
              "    .colab-df-convert:hover {\n",
              "      background-color: #E2EBFA;\n",
              "      box-shadow: 0px 1px 2px rgba(60, 64, 67, 0.3), 0px 1px 3px 1px rgba(60, 64, 67, 0.15);\n",
              "      fill: #174EA6;\n",
              "    }\n",
              "\n",
              "    [theme=dark] .colab-df-convert {\n",
              "      background-color: #3B4455;\n",
              "      fill: #D2E3FC;\n",
              "    }\n",
              "\n",
              "    [theme=dark] .colab-df-convert:hover {\n",
              "      background-color: #434B5C;\n",
              "      box-shadow: 0px 1px 3px 1px rgba(0, 0, 0, 0.15);\n",
              "      filter: drop-shadow(0px 1px 2px rgba(0, 0, 0, 0.3));\n",
              "      fill: #FFFFFF;\n",
              "    }\n",
              "  </style>\n",
              "\n",
              "      <script>\n",
              "        const buttonEl =\n",
              "          document.querySelector('#df-d7ab12ac-908e-416a-b744-e47029183076 button.colab-df-convert');\n",
              "        buttonEl.style.display =\n",
              "          google.colab.kernel.accessAllowed ? 'block' : 'none';\n",
              "\n",
              "        async function convertToInteractive(key) {\n",
              "          const element = document.querySelector('#df-d7ab12ac-908e-416a-b744-e47029183076');\n",
              "          const dataTable =\n",
              "            await google.colab.kernel.invokeFunction('convertToInteractive',\n",
              "                                                     [key], {});\n",
              "          if (!dataTable) return;\n",
              "\n",
              "          const docLinkHtml = 'Like what you see? Visit the ' +\n",
              "            '<a target=\"_blank\" href=https://colab.research.google.com/notebooks/data_table.ipynb>data table notebook</a>'\n",
              "            + ' to learn more about interactive tables.';\n",
              "          element.innerHTML = '';\n",
              "          dataTable['output_type'] = 'display_data';\n",
              "          await google.colab.output.renderOutput(dataTable, element);\n",
              "          const docLink = document.createElement('div');\n",
              "          docLink.innerHTML = docLinkHtml;\n",
              "          element.appendChild(docLink);\n",
              "        }\n",
              "      </script>\n",
              "    </div>\n",
              "  </div>\n",
              "  "
            ]
          },
          "metadata": {},
          "execution_count": 326
        }
      ]
    },
    {
      "cell_type": "code",
      "source": [
        "from autogluon.tabular import TabularDataset, TabularPredictor\n",
        "predictor = TabularPredictor(label='class').fit(train_data=train_df)"
      ],
      "metadata": {
        "colab": {
          "base_uri": "https://localhost:8080/",
          "height": 1000
        },
        "id": "F44jNYNt1O_v",
        "outputId": "556748d3-dd8f-4832-969d-95799034763a"
      },
      "execution_count": null,
      "outputs": [
        {
          "output_type": "stream",
          "name": "stderr",
          "text": [
            "No path specified. Models will be saved in: \"AutogluonModels/ag-20230308_234149/\"\n",
            "Beginning AutoGluon training ...\n",
            "AutoGluon will save models to \"AutogluonModels/ag-20230308_234149/\"\n",
            "AutoGluon Version:  0.7.0\n",
            "Python Version:     3.9.16\n",
            "Operating System:   Linux\n",
            "Platform Machine:   x86_64\n",
            "Platform Version:   #1 SMP Sat Dec 10 16:00:40 UTC 2022\n",
            "Train Data Rows:    582\n",
            "Train Data Columns: 560\n",
            "Label Column: class\n",
            "Preprocessing data ...\n",
            "AutoGluon infers your prediction problem is: 'multiclass' (because dtype of label-column == float, but few unique label-values observed and label-values can be converted to int).\n",
            "\t7 unique label values:  [3.0, 4.0, 6.0, 2.0, 1.0, 0.0, 5.0]\n",
            "\tIf 'multiclass' is not the correct problem_type, please manually specify the problem_type parameter during predictor init (You may specify problem_type as one of: ['binary', 'multiclass', 'regression'])\n",
            "Train Data Class Count: 7\n",
            "Using Feature Generators to preprocess the data ...\n",
            "Fitting AutoMLPipelineFeatureGenerator...\n",
            "\tAvailable Memory:                    6276.9 MB\n",
            "\tTrain Data (Original)  Memory Usage: 2.61 MB (0.0% of available memory)\n",
            "\tInferring data type of each feature based on column values. Set feature_metadata_in to manually specify special dtypes of the features.\n",
            "\tStage 1 Generators:\n",
            "\t\tFitting AsTypeFeatureGenerator...\n",
            "\tStage 2 Generators:\n",
            "\t\tFitting FillNaFeatureGenerator...\n",
            "\tStage 3 Generators:\n",
            "\t\tFitting IdentityFeatureGenerator...\n",
            "\tStage 4 Generators:\n",
            "\t\tFitting DropUniqueFeatureGenerator...\n",
            "\tTypes of features in original data (raw dtype, special dtypes):\n",
            "\t\t('float', []) : 560 | ['0', '1', '2', '3', '4', ...]\n",
            "\tTypes of features in processed data (raw dtype, special dtypes):\n",
            "\t\t('float', []) : 560 | ['0', '1', '2', '3', '4', ...]\n",
            "\t0.4s = Fit runtime\n",
            "\t560 features in original data used to generate 560 features in processed data.\n",
            "\tTrain Data (Processed) Memory Usage: 2.61 MB (0.0% of available memory)\n",
            "Data preprocessing and feature engineering runtime = 0.53s ...\n",
            "AutoGluon will gauge predictive performance using evaluation metric: 'accuracy'\n",
            "\tTo change this, specify the eval_metric parameter of Predictor()\n",
            "Automatically generating train/validation split with holdout_frac=0.2, Train Rows: 465, Val Rows: 117\n",
            "Fitting 13 L1 models ...\n",
            "Fitting model: KNeighborsUnif ...\n",
            "\t0.2393\t = Validation score   (accuracy)\n",
            "\t0.09s\t = Training   runtime\n",
            "\t0.02s\t = Validation runtime\n",
            "Fitting model: KNeighborsDist ...\n",
            "\t0.2479\t = Validation score   (accuracy)\n",
            "\t0.06s\t = Training   runtime\n",
            "\t0.01s\t = Validation runtime\n",
            "Fitting model: NeuralNetFastAI ...\n",
            "\t0.5726\t = Validation score   (accuracy)\n",
            "\t1.47s\t = Training   runtime\n",
            "\t0.02s\t = Validation runtime\n",
            "Fitting model: LightGBMXT ...\n",
            "\t0.5726\t = Validation score   (accuracy)\n",
            "\t34.58s\t = Training   runtime\n",
            "\t0.02s\t = Validation runtime\n",
            "Fitting model: LightGBM ...\n"
          ]
        },
        {
          "output_type": "error",
          "ename": "KeyboardInterrupt",
          "evalue": "ignored",
          "traceback": [
            "\u001b[0;31m---------------------------------------------------------------------------\u001b[0m",
            "\u001b[0;31mKeyboardInterrupt\u001b[0m                         Traceback (most recent call last)",
            "\u001b[0;32m<ipython-input-385-8b6e48ca6787>\u001b[0m in \u001b[0;36m<module>\u001b[0;34m\u001b[0m\n\u001b[1;32m      1\u001b[0m \u001b[0;32mfrom\u001b[0m \u001b[0mautogluon\u001b[0m\u001b[0;34m.\u001b[0m\u001b[0mtabular\u001b[0m \u001b[0;32mimport\u001b[0m \u001b[0mTabularDataset\u001b[0m\u001b[0;34m,\u001b[0m \u001b[0mTabularPredictor\u001b[0m\u001b[0;34m\u001b[0m\u001b[0;34m\u001b[0m\u001b[0m\n\u001b[0;32m----> 2\u001b[0;31m \u001b[0mpredictor\u001b[0m \u001b[0;34m=\u001b[0m \u001b[0mTabularPredictor\u001b[0m\u001b[0;34m(\u001b[0m\u001b[0mlabel\u001b[0m\u001b[0;34m=\u001b[0m\u001b[0;34m'class'\u001b[0m\u001b[0;34m)\u001b[0m\u001b[0;34m.\u001b[0m\u001b[0mfit\u001b[0m\u001b[0;34m(\u001b[0m\u001b[0mtrain_data\u001b[0m\u001b[0;34m=\u001b[0m\u001b[0mtrain_df\u001b[0m\u001b[0;34m)\u001b[0m\u001b[0;34m\u001b[0m\u001b[0;34m\u001b[0m\u001b[0m\n\u001b[0m",
            "\u001b[0;32m/usr/local/lib/python3.9/dist-packages/autogluon/core/utils/decorators.py\u001b[0m in \u001b[0;36m_call\u001b[0;34m(*args, **kwargs)\u001b[0m\n\u001b[1;32m     28\u001b[0m         \u001b[0;32mdef\u001b[0m \u001b[0m_call\u001b[0m\u001b[0;34m(\u001b[0m\u001b[0;34m*\u001b[0m\u001b[0margs\u001b[0m\u001b[0;34m,\u001b[0m \u001b[0;34m**\u001b[0m\u001b[0mkwargs\u001b[0m\u001b[0;34m)\u001b[0m\u001b[0;34m:\u001b[0m\u001b[0;34m\u001b[0m\u001b[0;34m\u001b[0m\u001b[0m\n\u001b[1;32m     29\u001b[0m             \u001b[0mgargs\u001b[0m\u001b[0;34m,\u001b[0m \u001b[0mgkwargs\u001b[0m \u001b[0;34m=\u001b[0m \u001b[0mg\u001b[0m\u001b[0;34m(\u001b[0m\u001b[0;34m*\u001b[0m\u001b[0mother_args\u001b[0m\u001b[0;34m,\u001b[0m \u001b[0;34m*\u001b[0m\u001b[0margs\u001b[0m\u001b[0;34m,\u001b[0m \u001b[0;34m**\u001b[0m\u001b[0mkwargs\u001b[0m\u001b[0;34m)\u001b[0m\u001b[0;34m\u001b[0m\u001b[0;34m\u001b[0m\u001b[0m\n\u001b[0;32m---> 30\u001b[0;31m             \u001b[0;32mreturn\u001b[0m \u001b[0mf\u001b[0m\u001b[0;34m(\u001b[0m\u001b[0;34m*\u001b[0m\u001b[0mgargs\u001b[0m\u001b[0;34m,\u001b[0m \u001b[0;34m**\u001b[0m\u001b[0mgkwargs\u001b[0m\u001b[0;34m)\u001b[0m\u001b[0;34m\u001b[0m\u001b[0;34m\u001b[0m\u001b[0m\n\u001b[0m\u001b[1;32m     31\u001b[0m         \u001b[0;32mreturn\u001b[0m \u001b[0m_call\u001b[0m\u001b[0;34m\u001b[0m\u001b[0;34m\u001b[0m\u001b[0m\n\u001b[1;32m     32\u001b[0m     \u001b[0;32mreturn\u001b[0m \u001b[0m_unpack_inner\u001b[0m\u001b[0;34m\u001b[0m\u001b[0;34m\u001b[0m\u001b[0m\n",
            "\u001b[0;32m/usr/local/lib/python3.9/dist-packages/autogluon/tabular/predictor/predictor.py\u001b[0m in \u001b[0;36mfit\u001b[0;34m(self, train_data, tuning_data, time_limit, presets, hyperparameters, feature_metadata, infer_limit, infer_limit_batch_size, fit_weighted_ensemble, num_cpus, num_gpus, **kwargs)\u001b[0m\n\u001b[1;32m    864\u001b[0m             \u001b[0maux_kwargs\u001b[0m\u001b[0;34m[\u001b[0m\u001b[0;34m'fit_weighted_ensemble'\u001b[0m\u001b[0;34m]\u001b[0m \u001b[0;34m=\u001b[0m \u001b[0;32mFalse\u001b[0m\u001b[0;34m\u001b[0m\u001b[0;34m\u001b[0m\u001b[0m\n\u001b[1;32m    865\u001b[0m         \u001b[0mself\u001b[0m\u001b[0;34m.\u001b[0m\u001b[0msave\u001b[0m\u001b[0;34m(\u001b[0m\u001b[0msilent\u001b[0m\u001b[0;34m=\u001b[0m\u001b[0;32mTrue\u001b[0m\u001b[0;34m)\u001b[0m  \u001b[0;31m# Save predictor to disk to enable prediction and training after interrupt\u001b[0m\u001b[0;34m\u001b[0m\u001b[0;34m\u001b[0m\u001b[0m\n\u001b[0;32m--> 866\u001b[0;31m         self._learner.fit(X=train_data, X_val=tuning_data, X_unlabeled=unlabeled_data,\n\u001b[0m\u001b[1;32m    867\u001b[0m                           \u001b[0mholdout_frac\u001b[0m\u001b[0;34m=\u001b[0m\u001b[0mholdout_frac\u001b[0m\u001b[0;34m,\u001b[0m \u001b[0mnum_bag_folds\u001b[0m\u001b[0;34m=\u001b[0m\u001b[0mnum_bag_folds\u001b[0m\u001b[0;34m,\u001b[0m \u001b[0mnum_bag_sets\u001b[0m\u001b[0;34m=\u001b[0m\u001b[0mnum_bag_sets\u001b[0m\u001b[0;34m,\u001b[0m\u001b[0;34m\u001b[0m\u001b[0;34m\u001b[0m\u001b[0m\n\u001b[1;32m    868\u001b[0m                           \u001b[0mnum_stack_levels\u001b[0m\u001b[0;34m=\u001b[0m\u001b[0mnum_stack_levels\u001b[0m\u001b[0;34m,\u001b[0m\u001b[0;34m\u001b[0m\u001b[0;34m\u001b[0m\u001b[0m\n",
            "\u001b[0;32m/usr/local/lib/python3.9/dist-packages/autogluon/tabular/learner/abstract_learner.py\u001b[0m in \u001b[0;36mfit\u001b[0;34m(self, X, X_val, **kwargs)\u001b[0m\n\u001b[1;32m    123\u001b[0m             \u001b[0;32mraise\u001b[0m \u001b[0mAssertionError\u001b[0m\u001b[0;34m(\u001b[0m\u001b[0;34m'Learner is already fit.'\u001b[0m\u001b[0;34m)\u001b[0m\u001b[0;34m\u001b[0m\u001b[0;34m\u001b[0m\u001b[0m\n\u001b[1;32m    124\u001b[0m         \u001b[0mself\u001b[0m\u001b[0;34m.\u001b[0m\u001b[0m_validate_fit_input\u001b[0m\u001b[0;34m(\u001b[0m\u001b[0mX\u001b[0m\u001b[0;34m=\u001b[0m\u001b[0mX\u001b[0m\u001b[0;34m,\u001b[0m \u001b[0mX_val\u001b[0m\u001b[0;34m=\u001b[0m\u001b[0mX_val\u001b[0m\u001b[0;34m,\u001b[0m \u001b[0;34m**\u001b[0m\u001b[0mkwargs\u001b[0m\u001b[0;34m)\u001b[0m\u001b[0;34m\u001b[0m\u001b[0;34m\u001b[0m\u001b[0m\n\u001b[0;32m--> 125\u001b[0;31m         \u001b[0;32mreturn\u001b[0m \u001b[0mself\u001b[0m\u001b[0;34m.\u001b[0m\u001b[0m_fit\u001b[0m\u001b[0;34m(\u001b[0m\u001b[0mX\u001b[0m\u001b[0;34m=\u001b[0m\u001b[0mX\u001b[0m\u001b[0;34m,\u001b[0m \u001b[0mX_val\u001b[0m\u001b[0;34m=\u001b[0m\u001b[0mX_val\u001b[0m\u001b[0;34m,\u001b[0m \u001b[0;34m**\u001b[0m\u001b[0mkwargs\u001b[0m\u001b[0;34m)\u001b[0m\u001b[0;34m\u001b[0m\u001b[0;34m\u001b[0m\u001b[0m\n\u001b[0m\u001b[1;32m    126\u001b[0m \u001b[0;34m\u001b[0m\u001b[0m\n\u001b[1;32m    127\u001b[0m     def _fit(self, X: DataFrame, X_val: DataFrame = None, scheduler_options=None, hyperparameter_tune=False,\n",
            "\u001b[0;32m/usr/local/lib/python3.9/dist-packages/autogluon/tabular/learner/default_learner.py\u001b[0m in \u001b[0;36m_fit\u001b[0;34m(self, X, X_val, X_unlabeled, holdout_frac, num_bag_folds, num_bag_sets, time_limit, infer_limit, infer_limit_batch_size, verbosity, **trainer_fit_kwargs)\u001b[0m\n\u001b[1;32m    116\u001b[0m \u001b[0;34m\u001b[0m\u001b[0m\n\u001b[1;32m    117\u001b[0m         \u001b[0mself\u001b[0m\u001b[0;34m.\u001b[0m\u001b[0msave\u001b[0m\u001b[0;34m(\u001b[0m\u001b[0;34m)\u001b[0m\u001b[0;34m\u001b[0m\u001b[0;34m\u001b[0m\u001b[0m\n\u001b[0;32m--> 118\u001b[0;31m         trainer.fit(\n\u001b[0m\u001b[1;32m    119\u001b[0m             \u001b[0mX\u001b[0m\u001b[0;34m=\u001b[0m\u001b[0mX\u001b[0m\u001b[0;34m,\u001b[0m\u001b[0;34m\u001b[0m\u001b[0;34m\u001b[0m\u001b[0m\n\u001b[1;32m    120\u001b[0m             \u001b[0my\u001b[0m\u001b[0;34m=\u001b[0m\u001b[0my\u001b[0m\u001b[0;34m,\u001b[0m\u001b[0;34m\u001b[0m\u001b[0;34m\u001b[0m\u001b[0m\n",
            "\u001b[0;32m/usr/local/lib/python3.9/dist-packages/autogluon/tabular/trainer/auto_trainer.py\u001b[0m in \u001b[0;36mfit\u001b[0;34m(self, X, y, hyperparameters, X_val, y_val, X_unlabeled, holdout_frac, num_stack_levels, core_kwargs, aux_kwargs, time_limit, infer_limit, infer_limit_batch_size, use_bag_holdout, groups, **kwargs)\u001b[0m\n\u001b[1;32m     96\u001b[0m                                      '\\tpredictor.fit(..., tuning_data=tuning_data, use_bag_holdout=True)')\n\u001b[1;32m     97\u001b[0m \u001b[0;34m\u001b[0m\u001b[0m\n\u001b[0;32m---> 98\u001b[0;31m         self._train_multi_and_ensemble(X=X,\n\u001b[0m\u001b[1;32m     99\u001b[0m                                        \u001b[0my\u001b[0m\u001b[0;34m=\u001b[0m\u001b[0my\u001b[0m\u001b[0;34m,\u001b[0m\u001b[0;34m\u001b[0m\u001b[0;34m\u001b[0m\u001b[0m\n\u001b[1;32m    100\u001b[0m                                        \u001b[0mX_val\u001b[0m\u001b[0;34m=\u001b[0m\u001b[0mX_val\u001b[0m\u001b[0;34m,\u001b[0m\u001b[0;34m\u001b[0m\u001b[0;34m\u001b[0m\u001b[0m\n",
            "\u001b[0;32m/usr/local/lib/python3.9/dist-packages/autogluon/core/trainer/abstract_trainer.py\u001b[0m in \u001b[0;36m_train_multi_and_ensemble\u001b[0;34m(self, X, y, X_val, y_val, hyperparameters, X_unlabeled, num_stack_levels, time_limit, groups, **kwargs)\u001b[0m\n\u001b[1;32m   2049\u001b[0m             \u001b[0mself\u001b[0m\u001b[0;34m.\u001b[0m\u001b[0m_num_rows_val\u001b[0m \u001b[0;34m=\u001b[0m \u001b[0mlen\u001b[0m\u001b[0;34m(\u001b[0m\u001b[0mX_val\u001b[0m\u001b[0;34m)\u001b[0m\u001b[0;34m\u001b[0m\u001b[0;34m\u001b[0m\u001b[0m\n\u001b[1;32m   2050\u001b[0m         \u001b[0mself\u001b[0m\u001b[0;34m.\u001b[0m\u001b[0m_num_cols_train\u001b[0m \u001b[0;34m=\u001b[0m \u001b[0mlen\u001b[0m\u001b[0;34m(\u001b[0m\u001b[0mlist\u001b[0m\u001b[0;34m(\u001b[0m\u001b[0mX\u001b[0m\u001b[0;34m.\u001b[0m\u001b[0mcolumns\u001b[0m\u001b[0;34m)\u001b[0m\u001b[0;34m)\u001b[0m\u001b[0;34m\u001b[0m\u001b[0;34m\u001b[0m\u001b[0m\n\u001b[0;32m-> 2051\u001b[0;31m         model_names_fit = self.train_multi_levels(X, y, hyperparameters=hyperparameters, X_val=X_val, y_val=y_val,\n\u001b[0m\u001b[1;32m   2052\u001b[0m                                                   X_unlabeled=X_unlabeled, level_start=1, level_end=num_stack_levels+1, time_limit=time_limit, **kwargs)\n\u001b[1;32m   2053\u001b[0m         \u001b[0;32mif\u001b[0m \u001b[0mlen\u001b[0m\u001b[0;34m(\u001b[0m\u001b[0mself\u001b[0m\u001b[0;34m.\u001b[0m\u001b[0mget_model_names\u001b[0m\u001b[0;34m(\u001b[0m\u001b[0;34m)\u001b[0m\u001b[0;34m)\u001b[0m \u001b[0;34m==\u001b[0m \u001b[0;36m0\u001b[0m\u001b[0;34m:\u001b[0m\u001b[0;34m\u001b[0m\u001b[0;34m\u001b[0m\u001b[0m\n",
            "\u001b[0;32m/usr/local/lib/python3.9/dist-packages/autogluon/core/trainer/abstract_trainer.py\u001b[0m in \u001b[0;36mtrain_multi_levels\u001b[0;34m(self, X, y, hyperparameters, X_val, y_val, X_unlabeled, base_model_names, core_kwargs, aux_kwargs, level_start, level_end, time_limit, name_suffix, relative_stack, level_time_modifier, infer_limit, infer_limit_batch_size)\u001b[0m\n\u001b[1;32m    310\u001b[0m                 \u001b[0mcore_kwargs_level\u001b[0m\u001b[0;34m[\u001b[0m\u001b[0;34m'time_limit'\u001b[0m\u001b[0;34m]\u001b[0m \u001b[0;34m=\u001b[0m \u001b[0mcore_kwargs_level\u001b[0m\u001b[0;34m.\u001b[0m\u001b[0mget\u001b[0m\u001b[0;34m(\u001b[0m\u001b[0;34m'time_limit'\u001b[0m\u001b[0;34m,\u001b[0m \u001b[0mtime_limit_core\u001b[0m\u001b[0;34m)\u001b[0m\u001b[0;34m\u001b[0m\u001b[0;34m\u001b[0m\u001b[0m\n\u001b[1;32m    311\u001b[0m                 \u001b[0maux_kwargs_level\u001b[0m\u001b[0;34m[\u001b[0m\u001b[0;34m'time_limit'\u001b[0m\u001b[0;34m]\u001b[0m \u001b[0;34m=\u001b[0m \u001b[0maux_kwargs_level\u001b[0m\u001b[0;34m.\u001b[0m\u001b[0mget\u001b[0m\u001b[0;34m(\u001b[0m\u001b[0;34m'time_limit'\u001b[0m\u001b[0;34m,\u001b[0m \u001b[0mtime_limit_aux\u001b[0m\u001b[0;34m)\u001b[0m\u001b[0;34m\u001b[0m\u001b[0;34m\u001b[0m\u001b[0m\n\u001b[0;32m--> 312\u001b[0;31m             base_model_names, aux_models = self.stack_new_level(\n\u001b[0m\u001b[1;32m    313\u001b[0m                 \u001b[0mX\u001b[0m\u001b[0;34m=\u001b[0m\u001b[0mX\u001b[0m\u001b[0;34m,\u001b[0m \u001b[0my\u001b[0m\u001b[0;34m=\u001b[0m\u001b[0my\u001b[0m\u001b[0;34m,\u001b[0m \u001b[0mX_val\u001b[0m\u001b[0;34m=\u001b[0m\u001b[0mX_val\u001b[0m\u001b[0;34m,\u001b[0m \u001b[0my_val\u001b[0m\u001b[0;34m=\u001b[0m\u001b[0my_val\u001b[0m\u001b[0;34m,\u001b[0m \u001b[0mX_unlabeled\u001b[0m\u001b[0;34m=\u001b[0m\u001b[0mX_unlabeled\u001b[0m\u001b[0;34m,\u001b[0m\u001b[0;34m\u001b[0m\u001b[0;34m\u001b[0m\u001b[0m\n\u001b[1;32m    314\u001b[0m                 \u001b[0mmodels\u001b[0m\u001b[0;34m=\u001b[0m\u001b[0mhyperparameters\u001b[0m\u001b[0;34m,\u001b[0m \u001b[0mlevel\u001b[0m\u001b[0;34m=\u001b[0m\u001b[0mlevel\u001b[0m\u001b[0;34m,\u001b[0m \u001b[0mbase_model_names\u001b[0m\u001b[0;34m=\u001b[0m\u001b[0mbase_model_names\u001b[0m\u001b[0;34m,\u001b[0m\u001b[0;34m\u001b[0m\u001b[0;34m\u001b[0m\u001b[0m\n",
            "\u001b[0;32m/usr/local/lib/python3.9/dist-packages/autogluon/core/trainer/abstract_trainer.py\u001b[0m in \u001b[0;36mstack_new_level\u001b[0;34m(self, X, y, models, X_val, y_val, X_unlabeled, level, base_model_names, core_kwargs, aux_kwargs, name_suffix, infer_limit, infer_limit_batch_size)\u001b[0m\n\u001b[1;32m    427\u001b[0m             \u001b[0mcore_kwargs\u001b[0m\u001b[0;34m[\u001b[0m\u001b[0;34m'name_suffix'\u001b[0m\u001b[0;34m]\u001b[0m \u001b[0;34m=\u001b[0m \u001b[0mcore_kwargs\u001b[0m\u001b[0;34m.\u001b[0m\u001b[0mget\u001b[0m\u001b[0;34m(\u001b[0m\u001b[0;34m'name_suffix'\u001b[0m\u001b[0;34m,\u001b[0m \u001b[0;34m''\u001b[0m\u001b[0;34m)\u001b[0m \u001b[0;34m+\u001b[0m \u001b[0mname_suffix\u001b[0m\u001b[0;34m\u001b[0m\u001b[0;34m\u001b[0m\u001b[0m\n\u001b[1;32m    428\u001b[0m             \u001b[0maux_kwargs\u001b[0m\u001b[0;34m[\u001b[0m\u001b[0;34m'name_suffix'\u001b[0m\u001b[0;34m]\u001b[0m \u001b[0;34m=\u001b[0m \u001b[0maux_kwargs\u001b[0m\u001b[0;34m.\u001b[0m\u001b[0mget\u001b[0m\u001b[0;34m(\u001b[0m\u001b[0;34m'name_suffix'\u001b[0m\u001b[0;34m,\u001b[0m \u001b[0;34m''\u001b[0m\u001b[0;34m)\u001b[0m \u001b[0;34m+\u001b[0m \u001b[0mname_suffix\u001b[0m\u001b[0;34m\u001b[0m\u001b[0;34m\u001b[0m\u001b[0m\n\u001b[0;32m--> 429\u001b[0;31m         core_models = self.stack_new_level_core(X=X, y=y, X_val=X_val, y_val=y_val, X_unlabeled=X_unlabeled, models=models,\n\u001b[0m\u001b[1;32m    430\u001b[0m                                                 level=level, infer_limit=infer_limit, infer_limit_batch_size=infer_limit_batch_size, base_model_names=base_model_names, **core_kwargs)\n\u001b[1;32m    431\u001b[0m \u001b[0;34m\u001b[0m\u001b[0m\n",
            "\u001b[0;32m/usr/local/lib/python3.9/dist-packages/autogluon/core/trainer/abstract_trainer.py\u001b[0m in \u001b[0;36mstack_new_level_core\u001b[0;34m(self, X, y, models, X_val, y_val, X_unlabeled, level, base_model_names, stack_name, ag_args, ag_args_fit, ag_args_ensemble, excluded_model_types, ensemble_type, name_suffix, get_models_func, refit_full, infer_limit, infer_limit_batch_size, **kwargs)\u001b[0m\n\u001b[1;32m    518\u001b[0m \u001b[0;34m\u001b[0m\u001b[0m\n\u001b[1;32m    519\u001b[0m         \u001b[0;31m# FIXME: TODO: v0.1 X_unlabeled isn't cached so it won't be available during refit_full or fit_extra.\u001b[0m\u001b[0;34m\u001b[0m\u001b[0;34m\u001b[0m\u001b[0m\n\u001b[0;32m--> 520\u001b[0;31m         return self._train_multi(X=X_init, y=y, X_val=X_val, y_val=y_val, X_unlabeled=X_unlabeled,\n\u001b[0m\u001b[1;32m    521\u001b[0m                                  models=models, level=level, stack_name=stack_name, compute_score=compute_score, fit_kwargs=fit_kwargs, **kwargs)\n\u001b[1;32m    522\u001b[0m \u001b[0;34m\u001b[0m\u001b[0m\n",
            "\u001b[0;32m/usr/local/lib/python3.9/dist-packages/autogluon/core/trainer/abstract_trainer.py\u001b[0m in \u001b[0;36m_train_multi\u001b[0;34m(self, X, y, models, hyperparameter_tune_kwargs, feature_prune_kwargs, k_fold, n_repeats, n_repeat_start, time_limit, **kwargs)\u001b[0m\n\u001b[1;32m   2019\u001b[0m         \u001b[0;32mif\u001b[0m \u001b[0mn_repeat_start\u001b[0m \u001b[0;34m==\u001b[0m \u001b[0;36m0\u001b[0m\u001b[0;34m:\u001b[0m\u001b[0;34m\u001b[0m\u001b[0;34m\u001b[0m\u001b[0m\n\u001b[1;32m   2020\u001b[0m             \u001b[0mtime_start\u001b[0m \u001b[0;34m=\u001b[0m \u001b[0mtime\u001b[0m\u001b[0;34m.\u001b[0m\u001b[0mtime\u001b[0m\u001b[0;34m(\u001b[0m\u001b[0;34m)\u001b[0m\u001b[0;34m\u001b[0m\u001b[0;34m\u001b[0m\u001b[0m\n\u001b[0;32m-> 2021\u001b[0;31m             model_names_trained = self._train_multi_initial(X=X, y=y, models=models, k_fold=k_fold, n_repeats=n_repeats_initial, hyperparameter_tune_kwargs=hyperparameter_tune_kwargs,\n\u001b[0m\u001b[1;32m   2022\u001b[0m                                                             feature_prune_kwargs=feature_prune_kwargs, time_limit=time_limit, **kwargs)\n\u001b[1;32m   2023\u001b[0m             \u001b[0mn_repeat_start\u001b[0m \u001b[0;34m=\u001b[0m \u001b[0mn_repeats_initial\u001b[0m\u001b[0;34m\u001b[0m\u001b[0;34m\u001b[0m\u001b[0m\n",
            "\u001b[0;32m/usr/local/lib/python3.9/dist-packages/autogluon/core/trainer/abstract_trainer.py\u001b[0m in \u001b[0;36m_train_multi_initial\u001b[0;34m(self, X, y, models, k_fold, n_repeats, hyperparameter_tune_kwargs, time_limit, feature_prune_kwargs, **kwargs)\u001b[0m\n\u001b[1;32m   1911\u001b[0m         \u001b[0;32mif\u001b[0m \u001b[0;32mnot\u001b[0m \u001b[0mbagged\u001b[0m\u001b[0;34m:\u001b[0m\u001b[0;34m\u001b[0m\u001b[0;34m\u001b[0m\u001b[0m\n\u001b[1;32m   1912\u001b[0m             \u001b[0mtime_ratio\u001b[0m \u001b[0;34m=\u001b[0m \u001b[0mhpo_time_ratio\u001b[0m \u001b[0;32mif\u001b[0m \u001b[0mhpo_enabled\u001b[0m \u001b[0;32melse\u001b[0m \u001b[0;36m1\u001b[0m\u001b[0;34m\u001b[0m\u001b[0;34m\u001b[0m\u001b[0m\n\u001b[0;32m-> 1913\u001b[0;31m             models = self._train_multi_fold(models=models, hyperparameter_tune_kwargs=hyperparameter_tune_kwargs,\n\u001b[0m\u001b[1;32m   1914\u001b[0m                                             time_limit=time_limit, time_split=time_split, time_ratio=time_ratio, **fit_args)\n\u001b[1;32m   1915\u001b[0m         \u001b[0;32melse\u001b[0m\u001b[0;34m:\u001b[0m\u001b[0;34m\u001b[0m\u001b[0;34m\u001b[0m\u001b[0m\n",
            "\u001b[0;32m/usr/local/lib/python3.9/dist-packages/autogluon/core/trainer/abstract_trainer.py\u001b[0m in \u001b[0;36m_train_multi_fold\u001b[0;34m(self, X, y, models, time_limit, time_split, time_ratio, hyperparameter_tune_kwargs, **kwargs)\u001b[0m\n\u001b[1;32m   1990\u001b[0m                     \u001b[0mtime_start_model\u001b[0m \u001b[0;34m=\u001b[0m \u001b[0mtime\u001b[0m\u001b[0;34m.\u001b[0m\u001b[0mtime\u001b[0m\u001b[0;34m(\u001b[0m\u001b[0;34m)\u001b[0m\u001b[0;34m\u001b[0m\u001b[0;34m\u001b[0m\u001b[0m\n\u001b[1;32m   1991\u001b[0m                     \u001b[0mtime_left\u001b[0m \u001b[0;34m=\u001b[0m \u001b[0mtime_limit\u001b[0m \u001b[0;34m-\u001b[0m \u001b[0;34m(\u001b[0m\u001b[0mtime_start_model\u001b[0m \u001b[0;34m-\u001b[0m \u001b[0mtime_start\u001b[0m\u001b[0;34m)\u001b[0m\u001b[0;34m\u001b[0m\u001b[0;34m\u001b[0m\u001b[0m\n\u001b[0;32m-> 1992\u001b[0;31m             \u001b[0mmodel_name_trained_lst\u001b[0m \u001b[0;34m=\u001b[0m \u001b[0mself\u001b[0m\u001b[0;34m.\u001b[0m\u001b[0m_train_single_full\u001b[0m\u001b[0;34m(\u001b[0m\u001b[0mX\u001b[0m\u001b[0;34m,\u001b[0m \u001b[0my\u001b[0m\u001b[0;34m,\u001b[0m \u001b[0mmodel\u001b[0m\u001b[0;34m,\u001b[0m \u001b[0mtime_limit\u001b[0m\u001b[0;34m=\u001b[0m\u001b[0mtime_left\u001b[0m\u001b[0;34m,\u001b[0m \u001b[0mhyperparameter_tune_kwargs\u001b[0m\u001b[0;34m=\u001b[0m\u001b[0mhyperparameter_tune_kwargs_model\u001b[0m\u001b[0;34m,\u001b[0m \u001b[0;34m**\u001b[0m\u001b[0mkwargs\u001b[0m\u001b[0;34m)\u001b[0m\u001b[0;34m\u001b[0m\u001b[0;34m\u001b[0m\u001b[0m\n\u001b[0m\u001b[1;32m   1993\u001b[0m \u001b[0;34m\u001b[0m\u001b[0m\n\u001b[1;32m   1994\u001b[0m             \u001b[0;32mif\u001b[0m \u001b[0mself\u001b[0m\u001b[0;34m.\u001b[0m\u001b[0mlow_memory\u001b[0m\u001b[0;34m:\u001b[0m\u001b[0;34m\u001b[0m\u001b[0;34m\u001b[0m\u001b[0m\n",
            "\u001b[0;32m/usr/local/lib/python3.9/dist-packages/autogluon/core/trainer/abstract_trainer.py\u001b[0m in \u001b[0;36m_train_single_full\u001b[0;34m(self, X, y, model, X_unlabeled, X_val, y_val, X_pseudo, y_pseudo, feature_prune, hyperparameter_tune_kwargs, stack_name, k_fold, k_fold_start, k_fold_end, n_repeats, n_repeat_start, level, time_limit, fit_kwargs, compute_score, total_resources, **kwargs)\u001b[0m\n\u001b[1;32m   1808\u001b[0m                 \u001b[0mbagged_model_fit_kwargs\u001b[0m \u001b[0;34m=\u001b[0m \u001b[0mself\u001b[0m\u001b[0;34m.\u001b[0m\u001b[0m_get_bagged_model_fit_kwargs\u001b[0m\u001b[0;34m(\u001b[0m\u001b[0mk_fold\u001b[0m\u001b[0;34m=\u001b[0m\u001b[0mk_fold\u001b[0m\u001b[0;34m,\u001b[0m \u001b[0mk_fold_start\u001b[0m\u001b[0;34m=\u001b[0m\u001b[0mk_fold_start\u001b[0m\u001b[0;34m,\u001b[0m \u001b[0mk_fold_end\u001b[0m\u001b[0;34m=\u001b[0m\u001b[0mk_fold_end\u001b[0m\u001b[0;34m,\u001b[0m \u001b[0mn_repeats\u001b[0m\u001b[0;34m=\u001b[0m\u001b[0mn_repeats\u001b[0m\u001b[0;34m,\u001b[0m \u001b[0mn_repeat_start\u001b[0m\u001b[0;34m=\u001b[0m\u001b[0mn_repeat_start\u001b[0m\u001b[0;34m)\u001b[0m\u001b[0;34m\u001b[0m\u001b[0;34m\u001b[0m\u001b[0m\n\u001b[1;32m   1809\u001b[0m                 \u001b[0mmodel_fit_kwargs\u001b[0m\u001b[0;34m.\u001b[0m\u001b[0mupdate\u001b[0m\u001b[0;34m(\u001b[0m\u001b[0mbagged_model_fit_kwargs\u001b[0m\u001b[0;34m)\u001b[0m\u001b[0;34m\u001b[0m\u001b[0;34m\u001b[0m\u001b[0m\n\u001b[0;32m-> 1810\u001b[0;31m             model_names_trained = self._train_and_save(\n\u001b[0m\u001b[1;32m   1811\u001b[0m                 \u001b[0mX\u001b[0m\u001b[0;34m=\u001b[0m\u001b[0mX\u001b[0m\u001b[0;34m,\u001b[0m\u001b[0;34m\u001b[0m\u001b[0;34m\u001b[0m\u001b[0m\n\u001b[1;32m   1812\u001b[0m                 \u001b[0my\u001b[0m\u001b[0;34m=\u001b[0m\u001b[0my\u001b[0m\u001b[0;34m,\u001b[0m\u001b[0;34m\u001b[0m\u001b[0;34m\u001b[0m\u001b[0m\n",
            "\u001b[0;32m/usr/local/lib/python3.9/dist-packages/autogluon/core/trainer/abstract_trainer.py\u001b[0m in \u001b[0;36m_train_and_save\u001b[0;34m(self, X, y, model, X_val, y_val, stack_name, level, compute_score, total_resources, **model_fit_kwargs)\u001b[0m\n\u001b[1;32m   1500\u001b[0m                 \u001b[0mmodel\u001b[0m \u001b[0;34m=\u001b[0m \u001b[0mself\u001b[0m\u001b[0;34m.\u001b[0m\u001b[0m_train_single\u001b[0m\u001b[0;34m(\u001b[0m\u001b[0mX_w_pseudo\u001b[0m\u001b[0;34m,\u001b[0m \u001b[0my_w_pseudo\u001b[0m\u001b[0;34m,\u001b[0m \u001b[0mmodel\u001b[0m\u001b[0;34m,\u001b[0m \u001b[0mX_val\u001b[0m\u001b[0;34m,\u001b[0m \u001b[0my_val\u001b[0m\u001b[0;34m,\u001b[0m \u001b[0;34m**\u001b[0m\u001b[0mmodel_fit_kwargs\u001b[0m\u001b[0;34m)\u001b[0m\u001b[0;34m\u001b[0m\u001b[0;34m\u001b[0m\u001b[0m\n\u001b[1;32m   1501\u001b[0m             \u001b[0;32melse\u001b[0m\u001b[0;34m:\u001b[0m\u001b[0;34m\u001b[0m\u001b[0;34m\u001b[0m\u001b[0m\n\u001b[0;32m-> 1502\u001b[0;31m                 \u001b[0mmodel\u001b[0m \u001b[0;34m=\u001b[0m \u001b[0mself\u001b[0m\u001b[0;34m.\u001b[0m\u001b[0m_train_single\u001b[0m\u001b[0;34m(\u001b[0m\u001b[0mX\u001b[0m\u001b[0;34m,\u001b[0m \u001b[0my\u001b[0m\u001b[0;34m,\u001b[0m \u001b[0mmodel\u001b[0m\u001b[0;34m,\u001b[0m \u001b[0mX_val\u001b[0m\u001b[0;34m,\u001b[0m \u001b[0my_val\u001b[0m\u001b[0;34m,\u001b[0m \u001b[0mtotal_resources\u001b[0m\u001b[0;34m=\u001b[0m\u001b[0mtotal_resources\u001b[0m\u001b[0;34m,\u001b[0m \u001b[0;34m**\u001b[0m\u001b[0mmodel_fit_kwargs\u001b[0m\u001b[0;34m)\u001b[0m\u001b[0;34m\u001b[0m\u001b[0;34m\u001b[0m\u001b[0m\n\u001b[0m\u001b[1;32m   1503\u001b[0m \u001b[0;34m\u001b[0m\u001b[0m\n\u001b[1;32m   1504\u001b[0m             \u001b[0mfit_end_time\u001b[0m \u001b[0;34m=\u001b[0m \u001b[0mtime\u001b[0m\u001b[0;34m.\u001b[0m\u001b[0mtime\u001b[0m\u001b[0;34m(\u001b[0m\u001b[0;34m)\u001b[0m\u001b[0;34m\u001b[0m\u001b[0;34m\u001b[0m\u001b[0m\n",
            "\u001b[0;32m/usr/local/lib/python3.9/dist-packages/autogluon/core/trainer/abstract_trainer.py\u001b[0m in \u001b[0;36m_train_single\u001b[0;34m(self, X, y, model, X_val, y_val, total_resources, **model_fit_kwargs)\u001b[0m\n\u001b[1;32m   1445\u001b[0m         \u001b[0mReturns\u001b[0m \u001b[0mtrained\u001b[0m \u001b[0mmodel\u001b[0m \u001b[0mobject\u001b[0m\u001b[0;34m.\u001b[0m\u001b[0;34m\u001b[0m\u001b[0;34m\u001b[0m\u001b[0m\n\u001b[1;32m   1446\u001b[0m         \"\"\"\n\u001b[0;32m-> 1447\u001b[0;31m         \u001b[0mmodel\u001b[0m \u001b[0;34m=\u001b[0m \u001b[0mmodel\u001b[0m\u001b[0;34m.\u001b[0m\u001b[0mfit\u001b[0m\u001b[0;34m(\u001b[0m\u001b[0mX\u001b[0m\u001b[0;34m=\u001b[0m\u001b[0mX\u001b[0m\u001b[0;34m,\u001b[0m \u001b[0my\u001b[0m\u001b[0;34m=\u001b[0m\u001b[0my\u001b[0m\u001b[0;34m,\u001b[0m \u001b[0mX_val\u001b[0m\u001b[0;34m=\u001b[0m\u001b[0mX_val\u001b[0m\u001b[0;34m,\u001b[0m \u001b[0my_val\u001b[0m\u001b[0;34m=\u001b[0m\u001b[0my_val\u001b[0m\u001b[0;34m,\u001b[0m \u001b[0mtotal_resources\u001b[0m\u001b[0;34m=\u001b[0m\u001b[0mtotal_resources\u001b[0m\u001b[0;34m,\u001b[0m \u001b[0;34m**\u001b[0m\u001b[0mmodel_fit_kwargs\u001b[0m\u001b[0;34m)\u001b[0m\u001b[0;34m\u001b[0m\u001b[0;34m\u001b[0m\u001b[0m\n\u001b[0m\u001b[1;32m   1448\u001b[0m         \u001b[0;32mreturn\u001b[0m \u001b[0mmodel\u001b[0m\u001b[0;34m\u001b[0m\u001b[0;34m\u001b[0m\u001b[0m\n\u001b[1;32m   1449\u001b[0m \u001b[0;34m\u001b[0m\u001b[0m\n",
            "\u001b[0;32m/usr/local/lib/python3.9/dist-packages/autogluon/core/models/abstract/abstract_model.py\u001b[0m in \u001b[0;36mfit\u001b[0;34m(self, **kwargs)\u001b[0m\n\u001b[1;32m    701\u001b[0m         \u001b[0mself\u001b[0m\u001b[0;34m.\u001b[0m\u001b[0mvalidate_fit_resources\u001b[0m\u001b[0;34m(\u001b[0m\u001b[0;34m**\u001b[0m\u001b[0mkwargs\u001b[0m\u001b[0;34m)\u001b[0m\u001b[0;34m\u001b[0m\u001b[0;34m\u001b[0m\u001b[0m\n\u001b[1;32m    702\u001b[0m         \u001b[0mself\u001b[0m\u001b[0;34m.\u001b[0m\u001b[0m_validate_fit_memory_usage\u001b[0m\u001b[0;34m(\u001b[0m\u001b[0;34m**\u001b[0m\u001b[0mkwargs\u001b[0m\u001b[0;34m)\u001b[0m\u001b[0;34m\u001b[0m\u001b[0;34m\u001b[0m\u001b[0m\n\u001b[0;32m--> 703\u001b[0;31m         \u001b[0mout\u001b[0m \u001b[0;34m=\u001b[0m \u001b[0mself\u001b[0m\u001b[0;34m.\u001b[0m\u001b[0m_fit\u001b[0m\u001b[0;34m(\u001b[0m\u001b[0;34m**\u001b[0m\u001b[0mkwargs\u001b[0m\u001b[0;34m)\u001b[0m\u001b[0;34m\u001b[0m\u001b[0;34m\u001b[0m\u001b[0m\n\u001b[0m\u001b[1;32m    704\u001b[0m         \u001b[0;32mif\u001b[0m \u001b[0mout\u001b[0m \u001b[0;32mis\u001b[0m \u001b[0;32mNone\u001b[0m\u001b[0;34m:\u001b[0m\u001b[0;34m\u001b[0m\u001b[0;34m\u001b[0m\u001b[0m\n\u001b[1;32m    705\u001b[0m             \u001b[0mout\u001b[0m \u001b[0;34m=\u001b[0m \u001b[0mself\u001b[0m\u001b[0;34m\u001b[0m\u001b[0;34m\u001b[0m\u001b[0m\n",
            "\u001b[0;32m/usr/local/lib/python3.9/dist-packages/autogluon/tabular/models/lgb/lgb_model.py\u001b[0m in \u001b[0;36m_fit\u001b[0;34m(self, X, y, X_val, y_val, time_limit, num_gpus, num_cpus, sample_weight, sample_weight_val, verbosity, **kwargs)\u001b[0m\n\u001b[1;32m    183\u001b[0m             \u001b[0mwarnings\u001b[0m\u001b[0;34m.\u001b[0m\u001b[0mfilterwarnings\u001b[0m\u001b[0;34m(\u001b[0m\u001b[0;34m'ignore'\u001b[0m\u001b[0;34m,\u001b[0m \u001b[0mmessage\u001b[0m\u001b[0;34m=\u001b[0m\u001b[0;34m'categorical_column in param dict is overridden.'\u001b[0m\u001b[0;34m)\u001b[0m\u001b[0;34m\u001b[0m\u001b[0;34m\u001b[0m\u001b[0m\n\u001b[1;32m    184\u001b[0m             \u001b[0;32mtry\u001b[0m\u001b[0;34m:\u001b[0m\u001b[0;34m\u001b[0m\u001b[0;34m\u001b[0m\u001b[0m\n\u001b[0;32m--> 185\u001b[0;31m                 \u001b[0mself\u001b[0m\u001b[0;34m.\u001b[0m\u001b[0mmodel\u001b[0m \u001b[0;34m=\u001b[0m \u001b[0mlgb\u001b[0m\u001b[0;34m.\u001b[0m\u001b[0mtrain\u001b[0m\u001b[0;34m(\u001b[0m\u001b[0;34m**\u001b[0m\u001b[0mtrain_params\u001b[0m\u001b[0;34m)\u001b[0m\u001b[0;34m\u001b[0m\u001b[0;34m\u001b[0m\u001b[0m\n\u001b[0m\u001b[1;32m    186\u001b[0m             \u001b[0;32mexcept\u001b[0m \u001b[0mLightGBMError\u001b[0m\u001b[0;34m:\u001b[0m\u001b[0;34m\u001b[0m\u001b[0;34m\u001b[0m\u001b[0m\n\u001b[1;32m    187\u001b[0m                 \u001b[0;32mif\u001b[0m \u001b[0mtrain_params\u001b[0m\u001b[0;34m[\u001b[0m\u001b[0;34m'params'\u001b[0m\u001b[0;34m]\u001b[0m\u001b[0;34m.\u001b[0m\u001b[0mget\u001b[0m\u001b[0;34m(\u001b[0m\u001b[0;34m'device'\u001b[0m\u001b[0;34m,\u001b[0m \u001b[0;34m'cpu'\u001b[0m\u001b[0;34m)\u001b[0m \u001b[0;34m!=\u001b[0m \u001b[0;34m'gpu'\u001b[0m\u001b[0;34m:\u001b[0m\u001b[0;34m\u001b[0m\u001b[0;34m\u001b[0m\u001b[0m\n",
            "\u001b[0;32m/usr/local/lib/python3.9/dist-packages/lightgbm/engine.py\u001b[0m in \u001b[0;36mtrain\u001b[0;34m(params, train_set, num_boost_round, valid_sets, valid_names, fobj, feval, init_model, feature_name, categorical_feature, early_stopping_rounds, evals_result, verbose_eval, learning_rates, keep_training_booster, callbacks)\u001b[0m\n\u001b[1;32m    290\u001b[0m                                     evaluation_result_list=None))\n\u001b[1;32m    291\u001b[0m \u001b[0;34m\u001b[0m\u001b[0m\n\u001b[0;32m--> 292\u001b[0;31m         \u001b[0mbooster\u001b[0m\u001b[0;34m.\u001b[0m\u001b[0mupdate\u001b[0m\u001b[0;34m(\u001b[0m\u001b[0mfobj\u001b[0m\u001b[0;34m=\u001b[0m\u001b[0mfobj\u001b[0m\u001b[0;34m)\u001b[0m\u001b[0;34m\u001b[0m\u001b[0;34m\u001b[0m\u001b[0m\n\u001b[0m\u001b[1;32m    293\u001b[0m \u001b[0;34m\u001b[0m\u001b[0m\n\u001b[1;32m    294\u001b[0m         \u001b[0mevaluation_result_list\u001b[0m \u001b[0;34m=\u001b[0m \u001b[0;34m[\u001b[0m\u001b[0;34m]\u001b[0m\u001b[0;34m\u001b[0m\u001b[0;34m\u001b[0m\u001b[0m\n",
            "\u001b[0;32m/usr/local/lib/python3.9/dist-packages/lightgbm/basic.py\u001b[0m in \u001b[0;36mupdate\u001b[0;34m(self, train_set, fobj)\u001b[0m\n\u001b[1;32m   3019\u001b[0m             \u001b[0;32mif\u001b[0m \u001b[0mself\u001b[0m\u001b[0;34m.\u001b[0m\u001b[0m__set_objective_to_none\u001b[0m\u001b[0;34m:\u001b[0m\u001b[0;34m\u001b[0m\u001b[0;34m\u001b[0m\u001b[0m\n\u001b[1;32m   3020\u001b[0m                 \u001b[0;32mraise\u001b[0m \u001b[0mLightGBMError\u001b[0m\u001b[0;34m(\u001b[0m\u001b[0;34m'Cannot update due to null objective function.'\u001b[0m\u001b[0;34m)\u001b[0m\u001b[0;34m\u001b[0m\u001b[0;34m\u001b[0m\u001b[0m\n\u001b[0;32m-> 3021\u001b[0;31m             _safe_call(_LIB.LGBM_BoosterUpdateOneIter(\n\u001b[0m\u001b[1;32m   3022\u001b[0m                 \u001b[0mself\u001b[0m\u001b[0;34m.\u001b[0m\u001b[0mhandle\u001b[0m\u001b[0;34m,\u001b[0m\u001b[0;34m\u001b[0m\u001b[0;34m\u001b[0m\u001b[0m\n\u001b[1;32m   3023\u001b[0m                 ctypes.byref(is_finished)))\n",
            "\u001b[0;31mKeyboardInterrupt\u001b[0m: "
          ]
        }
      ]
    },
    {
      "cell_type": "code",
      "source": [
        "import matplotlib.pyplot as plt\n",
        "\n",
        "plt.matshow(train_df.corr())\n",
        "plt.show()"
      ],
      "metadata": {
        "colab": {
          "base_uri": "https://localhost:8080/",
          "height": 275
        },
        "id": "T7P3Bbp5w0kO",
        "outputId": "601cb84f-b117-4c67-f98c-3b44d5ae6298"
      },
      "execution_count": null,
      "outputs": [
        {
          "output_type": "display_data",
          "data": {
            "text/plain": [
              "<Figure size 288x288 with 1 Axes>"
            ],
            "image/png": "[encoded data removed]"
          },
          "metadata": {
            "needs_background": "light"
          }
        }
      ]
    },
    {
      "cell_type": "code",
      "source": [
        "train_df.shape"
      ],
      "metadata": {
        "colab": {
          "base_uri": "https://localhost:8080/"
        },
        "id": "vq5XHj-oBw6z",
        "outputId": "07842ccf-c7bc-4b81-cd96-3ace96b30c1f"
      },
      "execution_count": null,
      "outputs": [
        {
          "output_type": "execute_result",
          "data": {
            "text/plain": [
              "(582, 1)"
            ]
          },
          "metadata": {},
          "execution_count": 268
        }
      ]
    },
    {
      "cell_type": "markdown",
      "source": [
        "Plot correlation"
      ],
      "metadata": {
        "id": "fZtPr8OMCGEh"
      }
    },
    {
      "cell_type": "code",
      "source": [
        "train_df.shape"
      ],
      "metadata": {
        "colab": {
          "base_uri": "https://localhost:8080/"
        },
        "id": "CX93pb5KKL59",
        "outputId": "cfcfcf39-fe5a-4604-85d3-c74b31149fb9"
      },
      "execution_count": null,
      "outputs": [
        {
          "output_type": "execute_result",
          "data": {
            "text/plain": [
              "(582, 561)"
            ]
          },
          "metadata": {},
          "execution_count": 383
        }
      ]
    },
    {
      "cell_type": "code",
      "source": [
        "import pandas as pd\n",
        "import numpy as np\n",
        "import matplotlib.pyplot as plt\n",
        "\n",
        "# Assume that you have a Pandas DataFrame \"df\" with the I/Q data\n",
        "# and you want to plot the correlation of the first column with all other columns\n",
        "col_idx = 560\n",
        "\n",
        "# Extract the column of interest and all other columns\n",
        "col_data = train_df.iloc[:, col_idx]\n",
        "other_data = train_df.drop(train_df.columns[col_idx], axis=1)\n",
        "\n",
        "# Compute the correlation coefficients between the column of interest and all other columns\n",
        "corr_coeffs = np.corrcoef(col_data, other_data, rowvar=False)[0]\n",
        "\n",
        "# Plot the correlation coefficients\n",
        "plt.plot(corr_coeffs)\n",
        "plt.xlabel('Column Index')\n",
        "plt.ylabel('Correlation Coefficient')\n",
        "plt.title(f'Correlation of Column {col_idx+1} with All Other Columns')\n",
        "plt.show()"
      ],
      "metadata": {
        "colab": {
          "base_uri": "https://localhost:8080/",
          "height": 295
        },
        "id": "sg2qZqyh-7UX",
        "outputId": "65160128-ebaf-4ae0-cc8f-47f1a82c1ee6"
      },
      "execution_count": null,
      "outputs": [
        {
          "output_type": "display_data",
          "data": {
            "text/plain": [
              "<Figure size 432x288 with 1 Axes>"
            ],
            "image/png": "[encoded data removed]"
          },
          "metadata": {
            "needs_background": "light"
          }
        }
      ]
    },
    {
      "cell_type": "code",
      "source": [
        "corr_coeffs = np.corrcoef(col_data, other_data, rowvar=False)[0]\n",
        "for i in range(len(corr_coeffs)):\n",
        "  if corr_coeffs[i] > 0.2 :\n",
        "    print(f'good corr {i}')\n",
        "  "
      ],
      "metadata": {
        "id": "5nYFxvoWCEZA"
      },
      "execution_count": null,
      "outputs": []
    }
  ]
}